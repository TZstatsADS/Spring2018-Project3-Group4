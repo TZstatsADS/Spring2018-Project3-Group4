{
 "cells": [
  {
   "cell_type": "code",
   "execution_count": 16,
   "metadata": {
    "collapsed": true
   },
   "outputs": [],
   "source": [
    "import os\n",
    "import pandas as pd\n",
    "siftpath=os.path.expanduser(\"~\\Documents\\GitHub\\Spring2018-Project3-Group4\\data\\\\train\\SIFT_train.csv\")\n",
    "rgbpath=os.path.expanduser(\"~\\Documents\\GitHub\\Spring2018-Project3-Group4\\data\\\\rgbftr.txt\")"
   ]
  },
  {
   "cell_type": "code",
   "execution_count": 19,
   "metadata": {
    "collapsed": true
   },
   "outputs": [],
   "source": [
    "rgb_feature=pd.read_csv(rgbpath)"
   ]
  },
  {
   "cell_type": "code",
   "execution_count": 41,
   "metadata": {
    "collapsed": true
   },
   "outputs": [],
   "source": [
    "cols=rgb_feature.columns.tolist()\n",
    "cols=cols[-1:]+cols[:-1]\n",
    "rgb_feature=rgb_feature[cols]"
   ]
  },
  {
   "cell_type": "code",
   "execution_count": 42,
   "metadata": {},
   "outputs": [
    {
     "data": {
      "text/html": [
       "<div>\n",
       "<style scoped>\n",
       "    .dataframe tbody tr th:only-of-type {\n",
       "        vertical-align: middle;\n",
       "    }\n",
       "\n",
       "    .dataframe tbody tr th {\n",
       "        vertical-align: top;\n",
       "    }\n",
       "\n",
       "    .dataframe thead th {\n",
       "        text-align: right;\n",
       "    }\n",
       "</style>\n",
       "<table border=\"1\" class=\"dataframe\">\n",
       "  <thead>\n",
       "    <tr style=\"text-align: right;\">\n",
       "      <th></th>\n",
       "      <th>label</th>\n",
       "      <th>Unnamed: 0</th>\n",
       "      <th>X1</th>\n",
       "      <th>X2</th>\n",
       "      <th>X3</th>\n",
       "      <th>X4</th>\n",
       "      <th>X5</th>\n",
       "      <th>X6</th>\n",
       "      <th>X7</th>\n",
       "      <th>X8</th>\n",
       "      <th>...</th>\n",
       "      <th>X1431</th>\n",
       "      <th>X1432</th>\n",
       "      <th>X1433</th>\n",
       "      <th>X1434</th>\n",
       "      <th>X1435</th>\n",
       "      <th>X1436</th>\n",
       "      <th>X1437</th>\n",
       "      <th>X1438</th>\n",
       "      <th>X1439</th>\n",
       "      <th>X1440</th>\n",
       "    </tr>\n",
       "  </thead>\n",
       "  <tbody>\n",
       "    <tr>\n",
       "      <th>0</th>\n",
       "      <td>1</td>\n",
       "      <td>1</td>\n",
       "      <td>0.000014</td>\n",
       "      <td>0.000938</td>\n",
       "      <td>0.002409</td>\n",
       "      <td>0.000350</td>\n",
       "      <td>0.000000</td>\n",
       "      <td>0.000000</td>\n",
       "      <td>0.000000</td>\n",
       "      <td>0.000000</td>\n",
       "      <td>...</td>\n",
       "      <td>0</td>\n",
       "      <td>0.0</td>\n",
       "      <td>0.0</td>\n",
       "      <td>0.0</td>\n",
       "      <td>0.0</td>\n",
       "      <td>0.0</td>\n",
       "      <td>0.000000</td>\n",
       "      <td>0.0</td>\n",
       "      <td>0.004762</td>\n",
       "      <td>0.351891</td>\n",
       "    </tr>\n",
       "    <tr>\n",
       "      <th>1</th>\n",
       "      <td>1</td>\n",
       "      <td>2</td>\n",
       "      <td>0.002623</td>\n",
       "      <td>0.005427</td>\n",
       "      <td>0.002163</td>\n",
       "      <td>0.000360</td>\n",
       "      <td>0.000044</td>\n",
       "      <td>0.000000</td>\n",
       "      <td>0.000000</td>\n",
       "      <td>0.000000</td>\n",
       "      <td>...</td>\n",
       "      <td>0</td>\n",
       "      <td>0.0</td>\n",
       "      <td>0.0</td>\n",
       "      <td>0.0</td>\n",
       "      <td>0.0</td>\n",
       "      <td>0.0</td>\n",
       "      <td>0.000000</td>\n",
       "      <td>0.0</td>\n",
       "      <td>0.009039</td>\n",
       "      <td>0.093690</td>\n",
       "    </tr>\n",
       "    <tr>\n",
       "      <th>2</th>\n",
       "      <td>1</td>\n",
       "      <td>3</td>\n",
       "      <td>0.001878</td>\n",
       "      <td>0.003044</td>\n",
       "      <td>0.000256</td>\n",
       "      <td>0.000000</td>\n",
       "      <td>0.000000</td>\n",
       "      <td>0.000000</td>\n",
       "      <td>0.000000</td>\n",
       "      <td>0.000000</td>\n",
       "      <td>...</td>\n",
       "      <td>0</td>\n",
       "      <td>0.0</td>\n",
       "      <td>0.0</td>\n",
       "      <td>0.0</td>\n",
       "      <td>0.0</td>\n",
       "      <td>0.0</td>\n",
       "      <td>0.000000</td>\n",
       "      <td>0.0</td>\n",
       "      <td>0.000000</td>\n",
       "      <td>0.000000</td>\n",
       "    </tr>\n",
       "    <tr>\n",
       "      <th>3</th>\n",
       "      <td>1</td>\n",
       "      <td>4</td>\n",
       "      <td>0.078483</td>\n",
       "      <td>0.001231</td>\n",
       "      <td>0.000167</td>\n",
       "      <td>0.000012</td>\n",
       "      <td>0.000000</td>\n",
       "      <td>0.000000</td>\n",
       "      <td>0.000000</td>\n",
       "      <td>0.000000</td>\n",
       "      <td>...</td>\n",
       "      <td>0</td>\n",
       "      <td>0.0</td>\n",
       "      <td>0.0</td>\n",
       "      <td>0.0</td>\n",
       "      <td>0.0</td>\n",
       "      <td>0.0</td>\n",
       "      <td>0.000000</td>\n",
       "      <td>0.0</td>\n",
       "      <td>0.000283</td>\n",
       "      <td>0.000104</td>\n",
       "    </tr>\n",
       "    <tr>\n",
       "      <th>4</th>\n",
       "      <td>1</td>\n",
       "      <td>5</td>\n",
       "      <td>0.116950</td>\n",
       "      <td>0.051410</td>\n",
       "      <td>0.039697</td>\n",
       "      <td>0.029717</td>\n",
       "      <td>0.013412</td>\n",
       "      <td>0.002864</td>\n",
       "      <td>0.000217</td>\n",
       "      <td>0.000015</td>\n",
       "      <td>...</td>\n",
       "      <td>0</td>\n",
       "      <td>0.0</td>\n",
       "      <td>0.0</td>\n",
       "      <td>0.0</td>\n",
       "      <td>0.0</td>\n",
       "      <td>0.0</td>\n",
       "      <td>0.000004</td>\n",
       "      <td>0.0</td>\n",
       "      <td>0.000206</td>\n",
       "      <td>0.000018</td>\n",
       "    </tr>\n",
       "  </tbody>\n",
       "</table>\n",
       "<p>5 rows × 1442 columns</p>\n",
       "</div>"
      ],
      "text/plain": [
       "   label  Unnamed: 0        X1        X2        X3        X4        X5  \\\n",
       "0      1           1  0.000014  0.000938  0.002409  0.000350  0.000000   \n",
       "1      1           2  0.002623  0.005427  0.002163  0.000360  0.000044   \n",
       "2      1           3  0.001878  0.003044  0.000256  0.000000  0.000000   \n",
       "3      1           4  0.078483  0.001231  0.000167  0.000012  0.000000   \n",
       "4      1           5  0.116950  0.051410  0.039697  0.029717  0.013412   \n",
       "\n",
       "         X6        X7        X8    ...     X1431  X1432  X1433  X1434  X1435  \\\n",
       "0  0.000000  0.000000  0.000000    ...         0    0.0    0.0    0.0    0.0   \n",
       "1  0.000000  0.000000  0.000000    ...         0    0.0    0.0    0.0    0.0   \n",
       "2  0.000000  0.000000  0.000000    ...         0    0.0    0.0    0.0    0.0   \n",
       "3  0.000000  0.000000  0.000000    ...         0    0.0    0.0    0.0    0.0   \n",
       "4  0.002864  0.000217  0.000015    ...         0    0.0    0.0    0.0    0.0   \n",
       "\n",
       "   X1436     X1437  X1438     X1439     X1440  \n",
       "0    0.0  0.000000    0.0  0.004762  0.351891  \n",
       "1    0.0  0.000000    0.0  0.009039  0.093690  \n",
       "2    0.0  0.000000    0.0  0.000000  0.000000  \n",
       "3    0.0  0.000000    0.0  0.000283  0.000104  \n",
       "4    0.0  0.000004    0.0  0.000206  0.000018  \n",
       "\n",
       "[5 rows x 1442 columns]"
      ]
     },
     "execution_count": 42,
     "metadata": {},
     "output_type": "execute_result"
    }
   ],
   "source": [
    "rgb_feature.head()"
   ]
  },
  {
   "cell_type": "code",
   "execution_count": 17,
   "metadata": {},
   "outputs": [
    {
     "data": {
      "text/html": [
       "<div>\n",
       "<style scoped>\n",
       "    .dataframe tbody tr th:only-of-type {\n",
       "        vertical-align: middle;\n",
       "    }\n",
       "\n",
       "    .dataframe tbody tr th {\n",
       "        vertical-align: top;\n",
       "    }\n",
       "\n",
       "    .dataframe thead th {\n",
       "        text-align: right;\n",
       "    }\n",
       "</style>\n",
       "<table border=\"1\" class=\"dataframe\">\n",
       "  <thead>\n",
       "    <tr style=\"text-align: right;\">\n",
       "      <th></th>\n",
       "      <th>0</th>\n",
       "      <th>1</th>\n",
       "      <th>2</th>\n",
       "      <th>3</th>\n",
       "      <th>4</th>\n",
       "      <th>5</th>\n",
       "      <th>6</th>\n",
       "      <th>7</th>\n",
       "      <th>8</th>\n",
       "      <th>9</th>\n",
       "      <th>...</th>\n",
       "      <th>1991</th>\n",
       "      <th>1992</th>\n",
       "      <th>1993</th>\n",
       "      <th>1994</th>\n",
       "      <th>1995</th>\n",
       "      <th>1996</th>\n",
       "      <th>1997</th>\n",
       "      <th>1998</th>\n",
       "      <th>1999</th>\n",
       "      <th>2000</th>\n",
       "    </tr>\n",
       "  </thead>\n",
       "  <tbody>\n",
       "    <tr>\n",
       "      <th>0</th>\n",
       "      <td>img_1</td>\n",
       "      <td>0.000000</td>\n",
       "      <td>0.000000</td>\n",
       "      <td>0.0</td>\n",
       "      <td>0.0</td>\n",
       "      <td>0.000000</td>\n",
       "      <td>0.0</td>\n",
       "      <td>0.000000</td>\n",
       "      <td>0.000000</td>\n",
       "      <td>0.000000</td>\n",
       "      <td>...</td>\n",
       "      <td>0.0</td>\n",
       "      <td>0.0</td>\n",
       "      <td>0.0</td>\n",
       "      <td>0.000000</td>\n",
       "      <td>0.007874</td>\n",
       "      <td>0.000000</td>\n",
       "      <td>0.0</td>\n",
       "      <td>0.000000</td>\n",
       "      <td>0.0</td>\n",
       "      <td>0.000000</td>\n",
       "    </tr>\n",
       "    <tr>\n",
       "      <th>1</th>\n",
       "      <td>img_2</td>\n",
       "      <td>0.014085</td>\n",
       "      <td>0.000000</td>\n",
       "      <td>0.0</td>\n",
       "      <td>0.0</td>\n",
       "      <td>0.000000</td>\n",
       "      <td>0.0</td>\n",
       "      <td>0.000000</td>\n",
       "      <td>0.000000</td>\n",
       "      <td>0.004695</td>\n",
       "      <td>...</td>\n",
       "      <td>0.0</td>\n",
       "      <td>0.0</td>\n",
       "      <td>0.0</td>\n",
       "      <td>0.000000</td>\n",
       "      <td>0.000000</td>\n",
       "      <td>0.000000</td>\n",
       "      <td>0.0</td>\n",
       "      <td>0.000000</td>\n",
       "      <td>0.0</td>\n",
       "      <td>0.000000</td>\n",
       "    </tr>\n",
       "    <tr>\n",
       "      <th>2</th>\n",
       "      <td>img_3</td>\n",
       "      <td>0.000000</td>\n",
       "      <td>0.003247</td>\n",
       "      <td>0.0</td>\n",
       "      <td>0.0</td>\n",
       "      <td>0.000000</td>\n",
       "      <td>0.0</td>\n",
       "      <td>0.000000</td>\n",
       "      <td>0.000000</td>\n",
       "      <td>0.000000</td>\n",
       "      <td>...</td>\n",
       "      <td>0.0</td>\n",
       "      <td>0.0</td>\n",
       "      <td>0.0</td>\n",
       "      <td>0.000000</td>\n",
       "      <td>0.003247</td>\n",
       "      <td>0.000000</td>\n",
       "      <td>0.0</td>\n",
       "      <td>0.000000</td>\n",
       "      <td>0.0</td>\n",
       "      <td>0.000000</td>\n",
       "    </tr>\n",
       "    <tr>\n",
       "      <th>3</th>\n",
       "      <td>img_4</td>\n",
       "      <td>0.000000</td>\n",
       "      <td>0.000000</td>\n",
       "      <td>0.0</td>\n",
       "      <td>0.0</td>\n",
       "      <td>0.002037</td>\n",
       "      <td>0.0</td>\n",
       "      <td>0.000000</td>\n",
       "      <td>0.002037</td>\n",
       "      <td>0.000000</td>\n",
       "      <td>...</td>\n",
       "      <td>0.0</td>\n",
       "      <td>0.0</td>\n",
       "      <td>0.0</td>\n",
       "      <td>0.004073</td>\n",
       "      <td>0.000000</td>\n",
       "      <td>0.002037</td>\n",
       "      <td>0.0</td>\n",
       "      <td>0.000000</td>\n",
       "      <td>0.0</td>\n",
       "      <td>0.002037</td>\n",
       "    </tr>\n",
       "    <tr>\n",
       "      <th>4</th>\n",
       "      <td>img_5</td>\n",
       "      <td>0.005535</td>\n",
       "      <td>0.001845</td>\n",
       "      <td>0.0</td>\n",
       "      <td>0.0</td>\n",
       "      <td>0.000000</td>\n",
       "      <td>0.0</td>\n",
       "      <td>0.001845</td>\n",
       "      <td>0.000000</td>\n",
       "      <td>0.000000</td>\n",
       "      <td>...</td>\n",
       "      <td>0.0</td>\n",
       "      <td>0.0</td>\n",
       "      <td>0.0</td>\n",
       "      <td>0.001845</td>\n",
       "      <td>0.000000</td>\n",
       "      <td>0.001845</td>\n",
       "      <td>0.0</td>\n",
       "      <td>0.001845</td>\n",
       "      <td>0.0</td>\n",
       "      <td>0.000000</td>\n",
       "    </tr>\n",
       "  </tbody>\n",
       "</table>\n",
       "<p>5 rows × 2001 columns</p>\n",
       "</div>"
      ],
      "text/plain": [
       "    0         1         2     3     4         5     6         7         8     \\\n",
       "0  img_1  0.000000  0.000000   0.0   0.0  0.000000   0.0  0.000000  0.000000   \n",
       "1  img_2  0.014085  0.000000   0.0   0.0  0.000000   0.0  0.000000  0.000000   \n",
       "2  img_3  0.000000  0.003247   0.0   0.0  0.000000   0.0  0.000000  0.000000   \n",
       "3  img_4  0.000000  0.000000   0.0   0.0  0.002037   0.0  0.000000  0.002037   \n",
       "4  img_5  0.005535  0.001845   0.0   0.0  0.000000   0.0  0.001845  0.000000   \n",
       "\n",
       "       9       ...     1991  1992  1993      1994      1995      1996  1997  \\\n",
       "0  0.000000    ...      0.0   0.0   0.0  0.000000  0.007874  0.000000   0.0   \n",
       "1  0.004695    ...      0.0   0.0   0.0  0.000000  0.000000  0.000000   0.0   \n",
       "2  0.000000    ...      0.0   0.0   0.0  0.000000  0.003247  0.000000   0.0   \n",
       "3  0.000000    ...      0.0   0.0   0.0  0.004073  0.000000  0.002037   0.0   \n",
       "4  0.000000    ...      0.0   0.0   0.0  0.001845  0.000000  0.001845   0.0   \n",
       "\n",
       "       1998  1999      2000  \n",
       "0  0.000000   0.0  0.000000  \n",
       "1  0.000000   0.0  0.000000  \n",
       "2  0.000000   0.0  0.000000  \n",
       "3  0.000000   0.0  0.002037  \n",
       "4  0.001845   0.0  0.000000  \n",
       "\n",
       "[5 rows x 2001 columns]"
      ]
     },
     "execution_count": 17,
     "metadata": {},
     "output_type": "execute_result"
    }
   ],
   "source": [
    "sift_feature=pd.read_csv(siftpath,header=None)\n",
    "sift_feature.head()"
   ]
  },
  {
   "cell_type": "code",
   "execution_count": 21,
   "metadata": {},
   "outputs": [
    {
     "data": {
      "text/html": [
       "<div>\n",
       "<style scoped>\n",
       "    .dataframe tbody tr th:only-of-type {\n",
       "        vertical-align: middle;\n",
       "    }\n",
       "\n",
       "    .dataframe tbody tr th {\n",
       "        vertical-align: top;\n",
       "    }\n",
       "\n",
       "    .dataframe thead th {\n",
       "        text-align: right;\n",
       "    }\n",
       "</style>\n",
       "<table border=\"1\" class=\"dataframe\">\n",
       "  <thead>\n",
       "    <tr style=\"text-align: right;\">\n",
       "      <th></th>\n",
       "      <th>Unnamed: 0</th>\n",
       "      <th>img</th>\n",
       "      <th>label</th>\n",
       "    </tr>\n",
       "  </thead>\n",
       "  <tbody>\n",
       "    <tr>\n",
       "      <th>0</th>\n",
       "      <td>0</td>\n",
       "      <td>img_0001</td>\n",
       "      <td>1</td>\n",
       "    </tr>\n",
       "    <tr>\n",
       "      <th>1</th>\n",
       "      <td>1</td>\n",
       "      <td>img_0002</td>\n",
       "      <td>1</td>\n",
       "    </tr>\n",
       "    <tr>\n",
       "      <th>2</th>\n",
       "      <td>2</td>\n",
       "      <td>img_0003</td>\n",
       "      <td>1</td>\n",
       "    </tr>\n",
       "    <tr>\n",
       "      <th>3</th>\n",
       "      <td>3</td>\n",
       "      <td>img_0004</td>\n",
       "      <td>1</td>\n",
       "    </tr>\n",
       "    <tr>\n",
       "      <th>4</th>\n",
       "      <td>4</td>\n",
       "      <td>img_0005</td>\n",
       "      <td>1</td>\n",
       "    </tr>\n",
       "  </tbody>\n",
       "</table>\n",
       "</div>"
      ],
      "text/plain": [
       "   Unnamed: 0       img  label\n",
       "0           0  img_0001      1\n",
       "1           1  img_0002      1\n",
       "2           2  img_0003      1\n",
       "3           3  img_0004      1\n",
       "4           4  img_0005      1"
      ]
     },
     "execution_count": 21,
     "metadata": {},
     "output_type": "execute_result"
    }
   ],
   "source": [
    "label_path=os.path.expanduser(\"~\\Documents\\GitHub\\Spring2018-Project3-Group4\\data\\\\train\\label_train.csv\")\n",
    "label=pd.read_csv(label_path)\n",
    "label.head()"
   ]
  },
  {
   "cell_type": "code",
   "execution_count": 22,
   "metadata": {
    "collapsed": true
   },
   "outputs": [],
   "source": [
    "sift_feature.insert(loc=0, column='label', value=label.label)"
   ]
  },
  {
   "cell_type": "code",
   "execution_count": 23,
   "metadata": {},
   "outputs": [
    {
     "data": {
      "text/html": [
       "<div>\n",
       "<style scoped>\n",
       "    .dataframe tbody tr th:only-of-type {\n",
       "        vertical-align: middle;\n",
       "    }\n",
       "\n",
       "    .dataframe tbody tr th {\n",
       "        vertical-align: top;\n",
       "    }\n",
       "\n",
       "    .dataframe thead th {\n",
       "        text-align: right;\n",
       "    }\n",
       "</style>\n",
       "<table border=\"1\" class=\"dataframe\">\n",
       "  <thead>\n",
       "    <tr style=\"text-align: right;\">\n",
       "      <th></th>\n",
       "      <th>label</th>\n",
       "      <th>0</th>\n",
       "      <th>1</th>\n",
       "      <th>2</th>\n",
       "      <th>3</th>\n",
       "      <th>4</th>\n",
       "      <th>5</th>\n",
       "      <th>6</th>\n",
       "      <th>7</th>\n",
       "      <th>8</th>\n",
       "      <th>...</th>\n",
       "      <th>1991</th>\n",
       "      <th>1992</th>\n",
       "      <th>1993</th>\n",
       "      <th>1994</th>\n",
       "      <th>1995</th>\n",
       "      <th>1996</th>\n",
       "      <th>1997</th>\n",
       "      <th>1998</th>\n",
       "      <th>1999</th>\n",
       "      <th>2000</th>\n",
       "    </tr>\n",
       "  </thead>\n",
       "  <tbody>\n",
       "    <tr>\n",
       "      <th>0</th>\n",
       "      <td>1</td>\n",
       "      <td>img_1</td>\n",
       "      <td>0.000000</td>\n",
       "      <td>0.000000</td>\n",
       "      <td>0.0</td>\n",
       "      <td>0.0</td>\n",
       "      <td>0.000000</td>\n",
       "      <td>0.0</td>\n",
       "      <td>0.000000</td>\n",
       "      <td>0.000000</td>\n",
       "      <td>...</td>\n",
       "      <td>0.0</td>\n",
       "      <td>0.0</td>\n",
       "      <td>0.0</td>\n",
       "      <td>0.000000</td>\n",
       "      <td>0.007874</td>\n",
       "      <td>0.000000</td>\n",
       "      <td>0.0</td>\n",
       "      <td>0.000000</td>\n",
       "      <td>0.0</td>\n",
       "      <td>0.000000</td>\n",
       "    </tr>\n",
       "    <tr>\n",
       "      <th>1</th>\n",
       "      <td>1</td>\n",
       "      <td>img_2</td>\n",
       "      <td>0.014085</td>\n",
       "      <td>0.000000</td>\n",
       "      <td>0.0</td>\n",
       "      <td>0.0</td>\n",
       "      <td>0.000000</td>\n",
       "      <td>0.0</td>\n",
       "      <td>0.000000</td>\n",
       "      <td>0.000000</td>\n",
       "      <td>...</td>\n",
       "      <td>0.0</td>\n",
       "      <td>0.0</td>\n",
       "      <td>0.0</td>\n",
       "      <td>0.000000</td>\n",
       "      <td>0.000000</td>\n",
       "      <td>0.000000</td>\n",
       "      <td>0.0</td>\n",
       "      <td>0.000000</td>\n",
       "      <td>0.0</td>\n",
       "      <td>0.000000</td>\n",
       "    </tr>\n",
       "    <tr>\n",
       "      <th>2</th>\n",
       "      <td>1</td>\n",
       "      <td>img_3</td>\n",
       "      <td>0.000000</td>\n",
       "      <td>0.003247</td>\n",
       "      <td>0.0</td>\n",
       "      <td>0.0</td>\n",
       "      <td>0.000000</td>\n",
       "      <td>0.0</td>\n",
       "      <td>0.000000</td>\n",
       "      <td>0.000000</td>\n",
       "      <td>...</td>\n",
       "      <td>0.0</td>\n",
       "      <td>0.0</td>\n",
       "      <td>0.0</td>\n",
       "      <td>0.000000</td>\n",
       "      <td>0.003247</td>\n",
       "      <td>0.000000</td>\n",
       "      <td>0.0</td>\n",
       "      <td>0.000000</td>\n",
       "      <td>0.0</td>\n",
       "      <td>0.000000</td>\n",
       "    </tr>\n",
       "    <tr>\n",
       "      <th>3</th>\n",
       "      <td>1</td>\n",
       "      <td>img_4</td>\n",
       "      <td>0.000000</td>\n",
       "      <td>0.000000</td>\n",
       "      <td>0.0</td>\n",
       "      <td>0.0</td>\n",
       "      <td>0.002037</td>\n",
       "      <td>0.0</td>\n",
       "      <td>0.000000</td>\n",
       "      <td>0.002037</td>\n",
       "      <td>...</td>\n",
       "      <td>0.0</td>\n",
       "      <td>0.0</td>\n",
       "      <td>0.0</td>\n",
       "      <td>0.004073</td>\n",
       "      <td>0.000000</td>\n",
       "      <td>0.002037</td>\n",
       "      <td>0.0</td>\n",
       "      <td>0.000000</td>\n",
       "      <td>0.0</td>\n",
       "      <td>0.002037</td>\n",
       "    </tr>\n",
       "    <tr>\n",
       "      <th>4</th>\n",
       "      <td>1</td>\n",
       "      <td>img_5</td>\n",
       "      <td>0.005535</td>\n",
       "      <td>0.001845</td>\n",
       "      <td>0.0</td>\n",
       "      <td>0.0</td>\n",
       "      <td>0.000000</td>\n",
       "      <td>0.0</td>\n",
       "      <td>0.001845</td>\n",
       "      <td>0.000000</td>\n",
       "      <td>...</td>\n",
       "      <td>0.0</td>\n",
       "      <td>0.0</td>\n",
       "      <td>0.0</td>\n",
       "      <td>0.001845</td>\n",
       "      <td>0.000000</td>\n",
       "      <td>0.001845</td>\n",
       "      <td>0.0</td>\n",
       "      <td>0.001845</td>\n",
       "      <td>0.0</td>\n",
       "      <td>0.000000</td>\n",
       "    </tr>\n",
       "  </tbody>\n",
       "</table>\n",
       "<p>5 rows × 2002 columns</p>\n",
       "</div>"
      ],
      "text/plain": [
       "   label      0         1         2    3    4         5    6         7  \\\n",
       "0      1  img_1  0.000000  0.000000  0.0  0.0  0.000000  0.0  0.000000   \n",
       "1      1  img_2  0.014085  0.000000  0.0  0.0  0.000000  0.0  0.000000   \n",
       "2      1  img_3  0.000000  0.003247  0.0  0.0  0.000000  0.0  0.000000   \n",
       "3      1  img_4  0.000000  0.000000  0.0  0.0  0.002037  0.0  0.000000   \n",
       "4      1  img_5  0.005535  0.001845  0.0  0.0  0.000000  0.0  0.001845   \n",
       "\n",
       "          8    ...     1991  1992  1993      1994      1995      1996  1997  \\\n",
       "0  0.000000    ...      0.0   0.0   0.0  0.000000  0.007874  0.000000   0.0   \n",
       "1  0.000000    ...      0.0   0.0   0.0  0.000000  0.000000  0.000000   0.0   \n",
       "2  0.000000    ...      0.0   0.0   0.0  0.000000  0.003247  0.000000   0.0   \n",
       "3  0.002037    ...      0.0   0.0   0.0  0.004073  0.000000  0.002037   0.0   \n",
       "4  0.000000    ...      0.0   0.0   0.0  0.001845  0.000000  0.001845   0.0   \n",
       "\n",
       "       1998  1999      2000  \n",
       "0  0.000000   0.0  0.000000  \n",
       "1  0.000000   0.0  0.000000  \n",
       "2  0.000000   0.0  0.000000  \n",
       "3  0.000000   0.0  0.002037  \n",
       "4  0.001845   0.0  0.000000  \n",
       "\n",
       "[5 rows x 2002 columns]"
      ]
     },
     "execution_count": 23,
     "metadata": {},
     "output_type": "execute_result"
    }
   ],
   "source": [
    "sift_feature.head()"
   ]
  },
  {
   "cell_type": "markdown",
   "metadata": {},
   "source": [
    "# Model selection"
   ]
  },
  {
   "cell_type": "code",
   "execution_count": 35,
   "metadata": {
    "collapsed": true
   },
   "outputs": [],
   "source": [
    "#cross-validation \n",
    "import numpy as np\n",
    "from sklearn.discriminant_analysis import LinearDiscriminantAnalysis\n",
    "from sklearn.discriminant_analysis import QuadraticDiscriminantAnalysis\n",
    "from sklearn.linear_model import LogisticRegression\n",
    "from sklearn.ensemble import AdaBoostClassifier\n",
    "from sklearn.ensemble import GradientBoostingClassifier\n",
    "from sklearn.svm import SVC"
   ]
  },
  {
   "cell_type": "code",
   "execution_count": 46,
   "metadata": {
    "collapsed": true
   },
   "outputs": [],
   "source": [
    "def GetCvScore(model,data,k=5):\n",
    "    seqindx=np.repeat(range(k),data.shape[0]/k) # generate a sequence\n",
    "    np.random.shuffle(seqindx) # shuffle the sequence\n",
    "    cvscore=[]\n",
    "    for i in range(k):\n",
    "        X=data.iloc[seqindx!=i,2:]\n",
    "        y=data.iloc[seqindx!=i,0]\n",
    "        clf = model\n",
    "        clf.fit(X, y)\n",
    "        thisscore=clf.score(data.iloc[seqindx==i,2:],data.iloc[seqindx==i,0])\n",
    "        print(\"the score for the fold {} is {}\".format(i,thisscore))\n",
    "        cvscore.append(thisscore)\n",
    "    print(\"total score for the fold is {}\".format(sum(cvscore)/k))"
   ]
  },
  {
   "cell_type": "markdown",
   "metadata": {},
   "source": [
    "# logistic regression "
   ]
  },
  {
   "cell_type": "code",
   "execution_count": 47,
   "metadata": {},
   "outputs": [
    {
     "name": "stdout",
     "output_type": "stream",
     "text": [
      "the score for the fold 0 is 0.5816666666666667\n",
      "the score for the fold 1 is 0.51\n",
      "the score for the fold 2 is 0.5633333333333334\n",
      "the score for the fold 3 is 0.625\n",
      "the score for the fold 4 is 0.6333333333333333\n",
      "total score for the fold is 0.5826666666666667\n"
     ]
    }
   ],
   "source": [
    "GetCvScore(LogisticRegression(),data=sift_feature) #logisticregression"
   ]
  },
  {
   "cell_type": "code",
   "execution_count": 48,
   "metadata": {},
   "outputs": [
    {
     "name": "stdout",
     "output_type": "stream",
     "text": [
      "the score for the fold 0 is 0.6283333333333333\n",
      "the score for the fold 1 is 0.6516666666666666\n",
      "the score for the fold 2 is 0.6383333333333333\n",
      "the score for the fold 3 is 0.6333333333333333\n",
      "the score for the fold 4 is 0.6516666666666666\n",
      "total score for the fold is 0.6406666666666666\n"
     ]
    }
   ],
   "source": [
    "GetCvScore(LogisticRegression(),data=rgb_feature) #logisticregression"
   ]
  },
  {
   "cell_type": "markdown",
   "metadata": {},
   "source": [
    "# QDA & LDA"
   ]
  },
  {
   "cell_type": "code",
   "execution_count": 52,
   "metadata": {},
   "outputs": [
    {
     "name": "stderr",
     "output_type": "stream",
     "text": [
      "C:\\Wesley_Tao\\6.Software\\Anaconda\\lib\\site-packages\\sklearn\\discriminant_analysis.py:695: UserWarning: Variables are collinear\n",
      "  warnings.warn(\"Variables are collinear\")\n"
     ]
    },
    {
     "name": "stdout",
     "output_type": "stream",
     "text": [
      "the score for the fold 0 is 0.34\n",
      "the score for the fold 1 is 0.3516666666666667\n",
      "the score for the fold 2 is 0.31166666666666665\n",
      "the score for the fold 3 is 0.3383333333333333\n",
      "the score for the fold 4 is 0.32166666666666666\n",
      "total score for the fold is 0.3326666666666667\n"
     ]
    }
   ],
   "source": [
    "GetCvScore(QuadraticDiscriminantAnalysis(),data=sift_feature)# QDA"
   ]
  },
  {
   "cell_type": "code",
   "execution_count": 53,
   "metadata": {},
   "outputs": [
    {
     "name": "stderr",
     "output_type": "stream",
     "text": [
      "C:\\Wesley_Tao\\6.Software\\Anaconda\\lib\\site-packages\\sklearn\\discriminant_analysis.py:695: UserWarning: Variables are collinear\n",
      "  warnings.warn(\"Variables are collinear\")\n"
     ]
    },
    {
     "name": "stdout",
     "output_type": "stream",
     "text": [
      "the score for the fold 0 is 0.525\n",
      "the score for the fold 1 is 0.5833333333333334\n",
      "the score for the fold 2 is 0.5416666666666666\n",
      "the score for the fold 3 is 0.5483333333333333\n",
      "the score for the fold 4 is 0.5666666666666667\n",
      "total score for the fold is 0.5529999999999999\n"
     ]
    }
   ],
   "source": [
    "GetCvScore(QuadraticDiscriminantAnalysis(),data=rgb_feature) # QDA"
   ]
  },
  {
   "cell_type": "code",
   "execution_count": 56,
   "metadata": {},
   "outputs": [
    {
     "name": "stderr",
     "output_type": "stream",
     "text": [
      "C:\\Wesley_Tao\\6.Software\\Anaconda\\lib\\site-packages\\sklearn\\discriminant_analysis.py:387: UserWarning: Variables are collinear.\n",
      "  warnings.warn(\"Variables are collinear.\")\n"
     ]
    },
    {
     "name": "stdout",
     "output_type": "stream",
     "text": [
      "the score for the fold 0 is 0.57\n",
      "the score for the fold 1 is 0.565\n",
      "the score for the fold 2 is 0.625\n",
      "the score for the fold 3 is 0.6033333333333334\n",
      "the score for the fold 4 is 0.53\n",
      "total score for the fold is 0.5786666666666667\n"
     ]
    }
   ],
   "source": [
    "GetCvScore(LinearDiscriminantAnalysis(),data=rgb_feature)"
   ]
  },
  {
   "cell_type": "code",
   "execution_count": 57,
   "metadata": {},
   "outputs": [
    {
     "name": "stderr",
     "output_type": "stream",
     "text": [
      "C:\\Wesley_Tao\\6.Software\\Anaconda\\lib\\site-packages\\sklearn\\discriminant_analysis.py:387: UserWarning: Variables are collinear.\n",
      "  warnings.warn(\"Variables are collinear.\")\n"
     ]
    },
    {
     "name": "stdout",
     "output_type": "stream",
     "text": [
      "the score for the fold 0 is 0.48\n"
     ]
    },
    {
     "name": "stderr",
     "output_type": "stream",
     "text": [
      "C:\\Wesley_Tao\\6.Software\\Anaconda\\lib\\site-packages\\sklearn\\discriminant_analysis.py:455: UserWarning: The priors do not sum to 1. Renormalizing\n",
      "  UserWarning)\n"
     ]
    },
    {
     "name": "stdout",
     "output_type": "stream",
     "text": [
      "the score for the fold 1 is 0.49\n",
      "the score for the fold 2 is 0.51\n",
      "the score for the fold 3 is 0.5216666666666666\n",
      "the score for the fold 4 is 0.45166666666666666\n",
      "total score for the fold is 0.49066666666666664\n"
     ]
    }
   ],
   "source": [
    "GetCvScore(LinearDiscriminantAnalysis(),data=sift_feature)"
   ]
  },
  {
   "cell_type": "markdown",
   "metadata": {},
   "source": [
    "# adaboost"
   ]
  },
  {
   "cell_type": "code",
   "execution_count": 55,
   "metadata": {},
   "outputs": [
    {
     "name": "stdout",
     "output_type": "stream",
     "text": [
      "the score for the fold 0 is 0.65\n",
      "the score for the fold 1 is 0.625\n",
      "the score for the fold 2 is 0.6016666666666667\n",
      "the score for the fold 3 is 0.6616666666666666\n",
      "the score for the fold 4 is 0.635\n",
      "total score for the fold is 0.6346666666666666\n"
     ]
    }
   ],
   "source": [
    "GetCvScore(AdaBoostClassifier(),data=sift_feature) # adaboost"
   ]
  },
  {
   "cell_type": "code",
   "execution_count": 54,
   "metadata": {},
   "outputs": [
    {
     "name": "stdout",
     "output_type": "stream",
     "text": [
      "the score for the fold 0 is 0.83\n",
      "the score for the fold 1 is 0.8266666666666667\n",
      "the score for the fold 2 is 0.835\n",
      "the score for the fold 3 is 0.83\n",
      "the score for the fold 4 is 0.84\n",
      "total score for the fold is 0.8323333333333334\n"
     ]
    }
   ],
   "source": [
    "GetCvScore(AdaBoostClassifier(),data=rgb_feature) # adaboost"
   ]
  },
  {
   "cell_type": "markdown",
   "metadata": {},
   "source": [
    "# GBM"
   ]
  },
  {
   "cell_type": "code",
   "execution_count": 50,
   "metadata": {},
   "outputs": [
    {
     "name": "stdout",
     "output_type": "stream",
     "text": [
      "the score for the fold 0 is 0.9\n",
      "the score for the fold 1 is 0.885\n",
      "the score for the fold 2 is 0.8816666666666667\n",
      "the score for the fold 3 is 0.8766666666666667\n",
      "the score for the fold 4 is 0.8733333333333333\n",
      "total score for the fold is 0.8833333333333334\n"
     ]
    }
   ],
   "source": [
    "GetCvScore(GradientBoostingClassifier(),data=rgb_feature)  # gbm"
   ]
  },
  {
   "cell_type": "markdown",
   "metadata": {},
   "source": [
    "### base model"
   ]
  },
  {
   "cell_type": "code",
   "execution_count": 51,
   "metadata": {},
   "outputs": [
    {
     "name": "stdout",
     "output_type": "stream",
     "text": [
      "the score for the fold 0 is 0.695\n",
      "the score for the fold 1 is 0.72\n",
      "the score for the fold 2 is 0.7233333333333334\n",
      "the score for the fold 3 is 0.7183333333333334\n",
      "the score for the fold 4 is 0.69\n",
      "total score for the fold is 0.7093333333333334\n"
     ]
    }
   ],
   "source": [
    "GetCvScore(GradientBoostingClassifier(),data=sift_feature)  # gbm "
   ]
  },
  {
   "cell_type": "markdown",
   "metadata": {},
   "source": [
    "# SVM"
   ]
  },
  {
   "cell_type": "code",
   "execution_count": 58,
   "metadata": {},
   "outputs": [
    {
     "name": "stdout",
     "output_type": "stream",
     "text": [
      "the score for the fold 0 is 0.31166666666666665\n",
      "the score for the fold 1 is 0.35\n",
      "the score for the fold 2 is 0.335\n",
      "the score for the fold 3 is 0.32166666666666666\n",
      "the score for the fold 4 is 0.335\n",
      "total score for the fold is 0.33066666666666666\n"
     ]
    }
   ],
   "source": [
    "GetCvScore(SVC(kernel='rbf', class_weight='balanced'),data=sift_feature) # svc with radio base kernel"
   ]
  },
  {
   "cell_type": "code",
   "execution_count": 59,
   "metadata": {},
   "outputs": [
    {
     "name": "stdout",
     "output_type": "stream",
     "text": [
      "the score for the fold 0 is 0.35\n",
      "the score for the fold 1 is 0.3233333333333333\n",
      "the score for the fold 2 is 0.31333333333333335\n",
      "the score for the fold 3 is 0.335\n",
      "the score for the fold 4 is 0.3383333333333333\n",
      "total score for the fold is 0.332\n"
     ]
    }
   ],
   "source": [
    "GetCvScore(SVC(kernel='rbf', class_weight='balanced'),data=rgb_feature) # svc with radio base kernel"
   ]
  },
  {
   "cell_type": "code",
   "execution_count": 60,
   "metadata": {},
   "outputs": [
    {
     "name": "stdout",
     "output_type": "stream",
     "text": [
      "the score for the fold 0 is 0.355\n",
      "the score for the fold 1 is 0.32666666666666666\n",
      "the score for the fold 2 is 0.29833333333333334\n",
      "the score for the fold 3 is 0.29833333333333334\n",
      "the score for the fold 4 is 0.31333333333333335\n",
      "total score for the fold is 0.31833333333333336\n"
     ]
    }
   ],
   "source": [
    "GetCvScore(SVC(class_weight='balanced'),data=sift_feature) # svc linear "
   ]
  },
  {
   "cell_type": "code",
   "execution_count": 61,
   "metadata": {},
   "outputs": [
    {
     "name": "stdout",
     "output_type": "stream",
     "text": [
      "the score for the fold 0 is 0.3516666666666667\n",
      "the score for the fold 1 is 0.355\n",
      "the score for the fold 2 is 0.355\n",
      "the score for the fold 3 is 0.33\n",
      "the score for the fold 4 is 0.3466666666666667\n",
      "total score for the fold is 0.3476666666666667\n"
     ]
    }
   ],
   "source": [
    "GetCvScore(SVC(class_weight='balanced'),data=rgb_feature) # svc linear "
   ]
  }
 ],
 "metadata": {
  "kernelspec": {
   "display_name": "Python 3",
   "language": "python",
   "name": "python3"
  },
  "language_info": {
   "codemirror_mode": {
    "name": "ipython",
    "version": 3
   },
   "file_extension": ".py",
   "mimetype": "text/x-python",
   "name": "python",
   "nbconvert_exporter": "python",
   "pygments_lexer": "ipython3",
   "version": "3.6.1"
  }
 },
 "nbformat": 4,
 "nbformat_minor": 2
}
