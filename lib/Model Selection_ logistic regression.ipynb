{
 "cells": [
  {
   "cell_type": "code",
   "execution_count": 13,
   "metadata": {
    "collapsed": true
   },
   "outputs": [],
   "source": [
    "import os\n",
    "import pandas as pd\n",
    "import numpy as np\n",
    "import pickle \n",
    "import warnings\n",
    "import timeit\n",
    "warnings.filterwarnings('ignore')"
   ]
  },
  {
   "cell_type": "markdown",
   "metadata": {},
   "source": [
    "# 1. import data \n",
    "There are several data features extracted from the original images"
   ]
  },
  {
   "cell_type": "code",
   "execution_count": 2,
   "metadata": {
    "collapsed": true
   },
   "outputs": [],
   "source": [
    "siftpath=os.path.expanduser(\"~\\Documents\\GitHub\\Spring2018-Project3-Group4\\data\\\\train\\SIFT_train.csv\")\n",
    "orb_path=os.path.expanduser(\"~\\AppData\\Local\\Temp\\\\tmp0lxurr6y\")\n",
    "rgbpath=os.path.expanduser(\"~\\Documents\\GitHub\\Spring2018-Project3-Group4\\data\\\\rgbftr.txt\")\n",
    "label_path=os.path.expanduser(\"~\\Documents\\GitHub\\Spring2018-Project3-Group4\\data\\\\train\\label_train.csv\")\n",
    "label=pd.read_csv(label_path)"
   ]
  },
  {
   "cell_type": "markdown",
   "metadata": {},
   "source": [
    "### sift feature"
   ]
  },
  {
   "cell_type": "code",
   "execution_count": 3,
   "metadata": {
    "collapsed": true
   },
   "outputs": [],
   "source": [
    "sift_feature=pd.read_csv(siftpath,header=None)\n",
    "sift_feature.insert(loc=0, column='label', value=label.label)"
   ]
  },
  {
   "cell_type": "code",
   "execution_count": 4,
   "metadata": {},
   "outputs": [
    {
     "data": {
      "text/html": [
       "<div>\n",
       "<style scoped>\n",
       "    .dataframe tbody tr th:only-of-type {\n",
       "        vertical-align: middle;\n",
       "    }\n",
       "\n",
       "    .dataframe tbody tr th {\n",
       "        vertical-align: top;\n",
       "    }\n",
       "\n",
       "    .dataframe thead th {\n",
       "        text-align: right;\n",
       "    }\n",
       "</style>\n",
       "<table border=\"1\" class=\"dataframe\">\n",
       "  <thead>\n",
       "    <tr style=\"text-align: right;\">\n",
       "      <th></th>\n",
       "      <th>label</th>\n",
       "      <th>0</th>\n",
       "      <th>1</th>\n",
       "      <th>2</th>\n",
       "      <th>3</th>\n",
       "      <th>4</th>\n",
       "      <th>5</th>\n",
       "      <th>6</th>\n",
       "      <th>7</th>\n",
       "      <th>8</th>\n",
       "      <th>...</th>\n",
       "      <th>1991</th>\n",
       "      <th>1992</th>\n",
       "      <th>1993</th>\n",
       "      <th>1994</th>\n",
       "      <th>1995</th>\n",
       "      <th>1996</th>\n",
       "      <th>1997</th>\n",
       "      <th>1998</th>\n",
       "      <th>1999</th>\n",
       "      <th>2000</th>\n",
       "    </tr>\n",
       "  </thead>\n",
       "  <tbody>\n",
       "    <tr>\n",
       "      <th>0</th>\n",
       "      <td>1</td>\n",
       "      <td>img_1</td>\n",
       "      <td>0.000000</td>\n",
       "      <td>0.000000</td>\n",
       "      <td>0.0</td>\n",
       "      <td>0.0</td>\n",
       "      <td>0.000000</td>\n",
       "      <td>0.0</td>\n",
       "      <td>0.000000</td>\n",
       "      <td>0.000000</td>\n",
       "      <td>...</td>\n",
       "      <td>0.0</td>\n",
       "      <td>0.0</td>\n",
       "      <td>0.0</td>\n",
       "      <td>0.000000</td>\n",
       "      <td>0.007874</td>\n",
       "      <td>0.000000</td>\n",
       "      <td>0.0</td>\n",
       "      <td>0.000000</td>\n",
       "      <td>0.0</td>\n",
       "      <td>0.000000</td>\n",
       "    </tr>\n",
       "    <tr>\n",
       "      <th>1</th>\n",
       "      <td>1</td>\n",
       "      <td>img_2</td>\n",
       "      <td>0.014085</td>\n",
       "      <td>0.000000</td>\n",
       "      <td>0.0</td>\n",
       "      <td>0.0</td>\n",
       "      <td>0.000000</td>\n",
       "      <td>0.0</td>\n",
       "      <td>0.000000</td>\n",
       "      <td>0.000000</td>\n",
       "      <td>...</td>\n",
       "      <td>0.0</td>\n",
       "      <td>0.0</td>\n",
       "      <td>0.0</td>\n",
       "      <td>0.000000</td>\n",
       "      <td>0.000000</td>\n",
       "      <td>0.000000</td>\n",
       "      <td>0.0</td>\n",
       "      <td>0.000000</td>\n",
       "      <td>0.0</td>\n",
       "      <td>0.000000</td>\n",
       "    </tr>\n",
       "    <tr>\n",
       "      <th>2</th>\n",
       "      <td>1</td>\n",
       "      <td>img_3</td>\n",
       "      <td>0.000000</td>\n",
       "      <td>0.003247</td>\n",
       "      <td>0.0</td>\n",
       "      <td>0.0</td>\n",
       "      <td>0.000000</td>\n",
       "      <td>0.0</td>\n",
       "      <td>0.000000</td>\n",
       "      <td>0.000000</td>\n",
       "      <td>...</td>\n",
       "      <td>0.0</td>\n",
       "      <td>0.0</td>\n",
       "      <td>0.0</td>\n",
       "      <td>0.000000</td>\n",
       "      <td>0.003247</td>\n",
       "      <td>0.000000</td>\n",
       "      <td>0.0</td>\n",
       "      <td>0.000000</td>\n",
       "      <td>0.0</td>\n",
       "      <td>0.000000</td>\n",
       "    </tr>\n",
       "    <tr>\n",
       "      <th>3</th>\n",
       "      <td>1</td>\n",
       "      <td>img_4</td>\n",
       "      <td>0.000000</td>\n",
       "      <td>0.000000</td>\n",
       "      <td>0.0</td>\n",
       "      <td>0.0</td>\n",
       "      <td>0.002037</td>\n",
       "      <td>0.0</td>\n",
       "      <td>0.000000</td>\n",
       "      <td>0.002037</td>\n",
       "      <td>...</td>\n",
       "      <td>0.0</td>\n",
       "      <td>0.0</td>\n",
       "      <td>0.0</td>\n",
       "      <td>0.004073</td>\n",
       "      <td>0.000000</td>\n",
       "      <td>0.002037</td>\n",
       "      <td>0.0</td>\n",
       "      <td>0.000000</td>\n",
       "      <td>0.0</td>\n",
       "      <td>0.002037</td>\n",
       "    </tr>\n",
       "    <tr>\n",
       "      <th>4</th>\n",
       "      <td>1</td>\n",
       "      <td>img_5</td>\n",
       "      <td>0.005535</td>\n",
       "      <td>0.001845</td>\n",
       "      <td>0.0</td>\n",
       "      <td>0.0</td>\n",
       "      <td>0.000000</td>\n",
       "      <td>0.0</td>\n",
       "      <td>0.001845</td>\n",
       "      <td>0.000000</td>\n",
       "      <td>...</td>\n",
       "      <td>0.0</td>\n",
       "      <td>0.0</td>\n",
       "      <td>0.0</td>\n",
       "      <td>0.001845</td>\n",
       "      <td>0.000000</td>\n",
       "      <td>0.001845</td>\n",
       "      <td>0.0</td>\n",
       "      <td>0.001845</td>\n",
       "      <td>0.0</td>\n",
       "      <td>0.000000</td>\n",
       "    </tr>\n",
       "  </tbody>\n",
       "</table>\n",
       "<p>5 rows × 2002 columns</p>\n",
       "</div>"
      ],
      "text/plain": [
       "   label      0         1         2    3    4         5    6         7  \\\n",
       "0      1  img_1  0.000000  0.000000  0.0  0.0  0.000000  0.0  0.000000   \n",
       "1      1  img_2  0.014085  0.000000  0.0  0.0  0.000000  0.0  0.000000   \n",
       "2      1  img_3  0.000000  0.003247  0.0  0.0  0.000000  0.0  0.000000   \n",
       "3      1  img_4  0.000000  0.000000  0.0  0.0  0.002037  0.0  0.000000   \n",
       "4      1  img_5  0.005535  0.001845  0.0  0.0  0.000000  0.0  0.001845   \n",
       "\n",
       "          8    ...     1991  1992  1993      1994      1995      1996  1997  \\\n",
       "0  0.000000    ...      0.0   0.0   0.0  0.000000  0.007874  0.000000   0.0   \n",
       "1  0.000000    ...      0.0   0.0   0.0  0.000000  0.000000  0.000000   0.0   \n",
       "2  0.000000    ...      0.0   0.0   0.0  0.000000  0.003247  0.000000   0.0   \n",
       "3  0.002037    ...      0.0   0.0   0.0  0.004073  0.000000  0.002037   0.0   \n",
       "4  0.000000    ...      0.0   0.0   0.0  0.001845  0.000000  0.001845   0.0   \n",
       "\n",
       "       1998  1999      2000  \n",
       "0  0.000000   0.0  0.000000  \n",
       "1  0.000000   0.0  0.000000  \n",
       "2  0.000000   0.0  0.000000  \n",
       "3  0.000000   0.0  0.002037  \n",
       "4  0.001845   0.0  0.000000  \n",
       "\n",
       "[5 rows x 2002 columns]"
      ]
     },
     "execution_count": 4,
     "metadata": {},
     "output_type": "execute_result"
    }
   ],
   "source": [
    "sift_feature.head()"
   ]
  },
  {
   "cell_type": "markdown",
   "metadata": {},
   "source": [
    "### orb feature"
   ]
  },
  {
   "cell_type": "code",
   "execution_count": 5,
   "metadata": {
    "collapsed": true
   },
   "outputs": [],
   "source": [
    "with open(orb_path,\"br\") as f:\n",
    "    orbfeature=pickle.load(f)\n",
    "orbfeature=np.array(orbfeature)\n",
    "orbfeature=pd.DataFrame(orbfeature)\n",
    "orbfeature.insert(loc=0, column='label', value=label.label)\n",
    "orbfeature.insert(loc=1, column='img', value=list(range(1,3001)))"
   ]
  },
  {
   "cell_type": "code",
   "execution_count": 6,
   "metadata": {},
   "outputs": [
    {
     "data": {
      "text/html": [
       "<div>\n",
       "<style scoped>\n",
       "    .dataframe tbody tr th:only-of-type {\n",
       "        vertical-align: middle;\n",
       "    }\n",
       "\n",
       "    .dataframe tbody tr th {\n",
       "        vertical-align: top;\n",
       "    }\n",
       "\n",
       "    .dataframe thead th {\n",
       "        text-align: right;\n",
       "    }\n",
       "</style>\n",
       "<table border=\"1\" class=\"dataframe\">\n",
       "  <thead>\n",
       "    <tr style=\"text-align: right;\">\n",
       "      <th></th>\n",
       "      <th>label</th>\n",
       "      <th>img</th>\n",
       "      <th>0</th>\n",
       "      <th>1</th>\n",
       "      <th>2</th>\n",
       "      <th>3</th>\n",
       "      <th>4</th>\n",
       "      <th>5</th>\n",
       "      <th>6</th>\n",
       "      <th>7</th>\n",
       "      <th>...</th>\n",
       "      <th>1990</th>\n",
       "      <th>1991</th>\n",
       "      <th>1992</th>\n",
       "      <th>1993</th>\n",
       "      <th>1994</th>\n",
       "      <th>1995</th>\n",
       "      <th>1996</th>\n",
       "      <th>1997</th>\n",
       "      <th>1998</th>\n",
       "      <th>1999</th>\n",
       "    </tr>\n",
       "  </thead>\n",
       "  <tbody>\n",
       "    <tr>\n",
       "      <th>0</th>\n",
       "      <td>1</td>\n",
       "      <td>1</td>\n",
       "      <td>0.000000</td>\n",
       "      <td>0.000000</td>\n",
       "      <td>0.000000</td>\n",
       "      <td>0.000000</td>\n",
       "      <td>0.000000</td>\n",
       "      <td>0.000000</td>\n",
       "      <td>0.000000</td>\n",
       "      <td>0.000000</td>\n",
       "      <td>...</td>\n",
       "      <td>0.000000</td>\n",
       "      <td>0.001980</td>\n",
       "      <td>0.0</td>\n",
       "      <td>0.001980</td>\n",
       "      <td>0.000000</td>\n",
       "      <td>0.000000</td>\n",
       "      <td>0.0</td>\n",
       "      <td>0.000000</td>\n",
       "      <td>0.005941</td>\n",
       "      <td>0.000000</td>\n",
       "    </tr>\n",
       "    <tr>\n",
       "      <th>1</th>\n",
       "      <td>1</td>\n",
       "      <td>2</td>\n",
       "      <td>0.000000</td>\n",
       "      <td>0.000587</td>\n",
       "      <td>0.000000</td>\n",
       "      <td>0.001762</td>\n",
       "      <td>0.000587</td>\n",
       "      <td>0.000000</td>\n",
       "      <td>0.000000</td>\n",
       "      <td>0.000000</td>\n",
       "      <td>...</td>\n",
       "      <td>0.002349</td>\n",
       "      <td>0.000000</td>\n",
       "      <td>0.0</td>\n",
       "      <td>0.000587</td>\n",
       "      <td>0.000587</td>\n",
       "      <td>0.000000</td>\n",
       "      <td>0.0</td>\n",
       "      <td>0.000000</td>\n",
       "      <td>0.000000</td>\n",
       "      <td>0.000000</td>\n",
       "    </tr>\n",
       "    <tr>\n",
       "      <th>2</th>\n",
       "      <td>1</td>\n",
       "      <td>3</td>\n",
       "      <td>0.000000</td>\n",
       "      <td>0.000000</td>\n",
       "      <td>0.000000</td>\n",
       "      <td>0.001326</td>\n",
       "      <td>0.000000</td>\n",
       "      <td>0.000000</td>\n",
       "      <td>0.006631</td>\n",
       "      <td>0.001326</td>\n",
       "      <td>...</td>\n",
       "      <td>0.006631</td>\n",
       "      <td>0.001326</td>\n",
       "      <td>0.0</td>\n",
       "      <td>0.000000</td>\n",
       "      <td>0.000000</td>\n",
       "      <td>0.000000</td>\n",
       "      <td>0.0</td>\n",
       "      <td>0.000000</td>\n",
       "      <td>0.000000</td>\n",
       "      <td>0.001326</td>\n",
       "    </tr>\n",
       "    <tr>\n",
       "      <th>3</th>\n",
       "      <td>1</td>\n",
       "      <td>4</td>\n",
       "      <td>0.001226</td>\n",
       "      <td>0.000000</td>\n",
       "      <td>0.000000</td>\n",
       "      <td>0.002452</td>\n",
       "      <td>0.000000</td>\n",
       "      <td>0.001839</td>\n",
       "      <td>0.001226</td>\n",
       "      <td>0.000000</td>\n",
       "      <td>...</td>\n",
       "      <td>0.000613</td>\n",
       "      <td>0.000000</td>\n",
       "      <td>0.0</td>\n",
       "      <td>0.000000</td>\n",
       "      <td>0.000000</td>\n",
       "      <td>0.000613</td>\n",
       "      <td>0.0</td>\n",
       "      <td>0.000000</td>\n",
       "      <td>0.000000</td>\n",
       "      <td>0.000000</td>\n",
       "    </tr>\n",
       "    <tr>\n",
       "      <th>4</th>\n",
       "      <td>1</td>\n",
       "      <td>5</td>\n",
       "      <td>0.001559</td>\n",
       "      <td>0.000000</td>\n",
       "      <td>0.000312</td>\n",
       "      <td>0.001247</td>\n",
       "      <td>0.000000</td>\n",
       "      <td>0.001247</td>\n",
       "      <td>0.000312</td>\n",
       "      <td>0.001247</td>\n",
       "      <td>...</td>\n",
       "      <td>0.002182</td>\n",
       "      <td>0.000312</td>\n",
       "      <td>0.0</td>\n",
       "      <td>0.000000</td>\n",
       "      <td>0.000000</td>\n",
       "      <td>0.000312</td>\n",
       "      <td>0.0</td>\n",
       "      <td>0.001247</td>\n",
       "      <td>0.000312</td>\n",
       "      <td>0.000312</td>\n",
       "    </tr>\n",
       "  </tbody>\n",
       "</table>\n",
       "<p>5 rows × 2002 columns</p>\n",
       "</div>"
      ],
      "text/plain": [
       "   label  img         0         1         2         3         4         5  \\\n",
       "0      1    1  0.000000  0.000000  0.000000  0.000000  0.000000  0.000000   \n",
       "1      1    2  0.000000  0.000587  0.000000  0.001762  0.000587  0.000000   \n",
       "2      1    3  0.000000  0.000000  0.000000  0.001326  0.000000  0.000000   \n",
       "3      1    4  0.001226  0.000000  0.000000  0.002452  0.000000  0.001839   \n",
       "4      1    5  0.001559  0.000000  0.000312  0.001247  0.000000  0.001247   \n",
       "\n",
       "          6         7    ...         1990      1991  1992      1993      1994  \\\n",
       "0  0.000000  0.000000    ...     0.000000  0.001980   0.0  0.001980  0.000000   \n",
       "1  0.000000  0.000000    ...     0.002349  0.000000   0.0  0.000587  0.000587   \n",
       "2  0.006631  0.001326    ...     0.006631  0.001326   0.0  0.000000  0.000000   \n",
       "3  0.001226  0.000000    ...     0.000613  0.000000   0.0  0.000000  0.000000   \n",
       "4  0.000312  0.001247    ...     0.002182  0.000312   0.0  0.000000  0.000000   \n",
       "\n",
       "       1995  1996      1997      1998      1999  \n",
       "0  0.000000   0.0  0.000000  0.005941  0.000000  \n",
       "1  0.000000   0.0  0.000000  0.000000  0.000000  \n",
       "2  0.000000   0.0  0.000000  0.000000  0.001326  \n",
       "3  0.000613   0.0  0.000000  0.000000  0.000000  \n",
       "4  0.000312   0.0  0.001247  0.000312  0.000312  \n",
       "\n",
       "[5 rows x 2002 columns]"
      ]
     },
     "execution_count": 6,
     "metadata": {},
     "output_type": "execute_result"
    }
   ],
   "source": [
    "orbfeature.head()"
   ]
  },
  {
   "cell_type": "markdown",
   "metadata": {},
   "source": [
    "### rgb_feature"
   ]
  },
  {
   "cell_type": "code",
   "execution_count": 7,
   "metadata": {
    "collapsed": true
   },
   "outputs": [],
   "source": [
    "rgb_feature=pd.read_csv(rgbpath)\n",
    "cols=rgb_feature.columns.tolist()\n",
    "cols=cols[-1:]+cols[:-1]\n",
    "rgb_feature=rgb_feature[cols]"
   ]
  },
  {
   "cell_type": "code",
   "execution_count": 8,
   "metadata": {},
   "outputs": [
    {
     "data": {
      "text/html": [
       "<div>\n",
       "<style scoped>\n",
       "    .dataframe tbody tr th:only-of-type {\n",
       "        vertical-align: middle;\n",
       "    }\n",
       "\n",
       "    .dataframe tbody tr th {\n",
       "        vertical-align: top;\n",
       "    }\n",
       "\n",
       "    .dataframe thead th {\n",
       "        text-align: right;\n",
       "    }\n",
       "</style>\n",
       "<table border=\"1\" class=\"dataframe\">\n",
       "  <thead>\n",
       "    <tr style=\"text-align: right;\">\n",
       "      <th></th>\n",
       "      <th>label</th>\n",
       "      <th>Unnamed: 0</th>\n",
       "      <th>X1</th>\n",
       "      <th>X2</th>\n",
       "      <th>X3</th>\n",
       "      <th>X4</th>\n",
       "      <th>X5</th>\n",
       "      <th>X6</th>\n",
       "      <th>X7</th>\n",
       "      <th>X8</th>\n",
       "      <th>...</th>\n",
       "      <th>X1431</th>\n",
       "      <th>X1432</th>\n",
       "      <th>X1433</th>\n",
       "      <th>X1434</th>\n",
       "      <th>X1435</th>\n",
       "      <th>X1436</th>\n",
       "      <th>X1437</th>\n",
       "      <th>X1438</th>\n",
       "      <th>X1439</th>\n",
       "      <th>X1440</th>\n",
       "    </tr>\n",
       "  </thead>\n",
       "  <tbody>\n",
       "    <tr>\n",
       "      <th>0</th>\n",
       "      <td>1</td>\n",
       "      <td>1</td>\n",
       "      <td>0.000014</td>\n",
       "      <td>0.000938</td>\n",
       "      <td>0.002409</td>\n",
       "      <td>0.000350</td>\n",
       "      <td>0.000000</td>\n",
       "      <td>0.000000</td>\n",
       "      <td>0.000000</td>\n",
       "      <td>0.000000</td>\n",
       "      <td>...</td>\n",
       "      <td>0</td>\n",
       "      <td>0.0</td>\n",
       "      <td>0.0</td>\n",
       "      <td>0.0</td>\n",
       "      <td>0.0</td>\n",
       "      <td>0.0</td>\n",
       "      <td>0.000000</td>\n",
       "      <td>0.0</td>\n",
       "      <td>0.004762</td>\n",
       "      <td>0.351891</td>\n",
       "    </tr>\n",
       "    <tr>\n",
       "      <th>1</th>\n",
       "      <td>1</td>\n",
       "      <td>2</td>\n",
       "      <td>0.002623</td>\n",
       "      <td>0.005427</td>\n",
       "      <td>0.002163</td>\n",
       "      <td>0.000360</td>\n",
       "      <td>0.000044</td>\n",
       "      <td>0.000000</td>\n",
       "      <td>0.000000</td>\n",
       "      <td>0.000000</td>\n",
       "      <td>...</td>\n",
       "      <td>0</td>\n",
       "      <td>0.0</td>\n",
       "      <td>0.0</td>\n",
       "      <td>0.0</td>\n",
       "      <td>0.0</td>\n",
       "      <td>0.0</td>\n",
       "      <td>0.000000</td>\n",
       "      <td>0.0</td>\n",
       "      <td>0.009039</td>\n",
       "      <td>0.093690</td>\n",
       "    </tr>\n",
       "    <tr>\n",
       "      <th>2</th>\n",
       "      <td>1</td>\n",
       "      <td>3</td>\n",
       "      <td>0.001878</td>\n",
       "      <td>0.003044</td>\n",
       "      <td>0.000256</td>\n",
       "      <td>0.000000</td>\n",
       "      <td>0.000000</td>\n",
       "      <td>0.000000</td>\n",
       "      <td>0.000000</td>\n",
       "      <td>0.000000</td>\n",
       "      <td>...</td>\n",
       "      <td>0</td>\n",
       "      <td>0.0</td>\n",
       "      <td>0.0</td>\n",
       "      <td>0.0</td>\n",
       "      <td>0.0</td>\n",
       "      <td>0.0</td>\n",
       "      <td>0.000000</td>\n",
       "      <td>0.0</td>\n",
       "      <td>0.000000</td>\n",
       "      <td>0.000000</td>\n",
       "    </tr>\n",
       "    <tr>\n",
       "      <th>3</th>\n",
       "      <td>1</td>\n",
       "      <td>4</td>\n",
       "      <td>0.078483</td>\n",
       "      <td>0.001231</td>\n",
       "      <td>0.000167</td>\n",
       "      <td>0.000012</td>\n",
       "      <td>0.000000</td>\n",
       "      <td>0.000000</td>\n",
       "      <td>0.000000</td>\n",
       "      <td>0.000000</td>\n",
       "      <td>...</td>\n",
       "      <td>0</td>\n",
       "      <td>0.0</td>\n",
       "      <td>0.0</td>\n",
       "      <td>0.0</td>\n",
       "      <td>0.0</td>\n",
       "      <td>0.0</td>\n",
       "      <td>0.000000</td>\n",
       "      <td>0.0</td>\n",
       "      <td>0.000283</td>\n",
       "      <td>0.000104</td>\n",
       "    </tr>\n",
       "    <tr>\n",
       "      <th>4</th>\n",
       "      <td>1</td>\n",
       "      <td>5</td>\n",
       "      <td>0.116950</td>\n",
       "      <td>0.051410</td>\n",
       "      <td>0.039697</td>\n",
       "      <td>0.029717</td>\n",
       "      <td>0.013412</td>\n",
       "      <td>0.002864</td>\n",
       "      <td>0.000217</td>\n",
       "      <td>0.000015</td>\n",
       "      <td>...</td>\n",
       "      <td>0</td>\n",
       "      <td>0.0</td>\n",
       "      <td>0.0</td>\n",
       "      <td>0.0</td>\n",
       "      <td>0.0</td>\n",
       "      <td>0.0</td>\n",
       "      <td>0.000004</td>\n",
       "      <td>0.0</td>\n",
       "      <td>0.000206</td>\n",
       "      <td>0.000018</td>\n",
       "    </tr>\n",
       "  </tbody>\n",
       "</table>\n",
       "<p>5 rows × 1442 columns</p>\n",
       "</div>"
      ],
      "text/plain": [
       "   label  Unnamed: 0        X1        X2        X3        X4        X5  \\\n",
       "0      1           1  0.000014  0.000938  0.002409  0.000350  0.000000   \n",
       "1      1           2  0.002623  0.005427  0.002163  0.000360  0.000044   \n",
       "2      1           3  0.001878  0.003044  0.000256  0.000000  0.000000   \n",
       "3      1           4  0.078483  0.001231  0.000167  0.000012  0.000000   \n",
       "4      1           5  0.116950  0.051410  0.039697  0.029717  0.013412   \n",
       "\n",
       "         X6        X7        X8    ...     X1431  X1432  X1433  X1434  X1435  \\\n",
       "0  0.000000  0.000000  0.000000    ...         0    0.0    0.0    0.0    0.0   \n",
       "1  0.000000  0.000000  0.000000    ...         0    0.0    0.0    0.0    0.0   \n",
       "2  0.000000  0.000000  0.000000    ...         0    0.0    0.0    0.0    0.0   \n",
       "3  0.000000  0.000000  0.000000    ...         0    0.0    0.0    0.0    0.0   \n",
       "4  0.002864  0.000217  0.000015    ...         0    0.0    0.0    0.0    0.0   \n",
       "\n",
       "   X1436     X1437  X1438     X1439     X1440  \n",
       "0    0.0  0.000000    0.0  0.004762  0.351891  \n",
       "1    0.0  0.000000    0.0  0.009039  0.093690  \n",
       "2    0.0  0.000000    0.0  0.000000  0.000000  \n",
       "3    0.0  0.000000    0.0  0.000283  0.000104  \n",
       "4    0.0  0.000004    0.0  0.000206  0.000018  \n",
       "\n",
       "[5 rows x 1442 columns]"
      ]
     },
     "execution_count": 8,
     "metadata": {},
     "output_type": "execute_result"
    }
   ],
   "source": [
    "rgb_feature.head()"
   ]
  },
  {
   "cell_type": "markdown",
   "metadata": {},
   "source": [
    "# 2 Logistic Regression based on 3 features"
   ]
  },
  {
   "cell_type": "code",
   "execution_count": 9,
   "metadata": {
    "collapsed": true
   },
   "outputs": [],
   "source": [
    "#cross-validation \n",
    "import numpy as np\n",
    "import matplotlib.pyplot as plt\n",
    "from sklearn.discriminant_analysis import LinearDiscriminantAnalysis\n",
    "from sklearn.discriminant_analysis import QuadraticDiscriminantAnalysis\n",
    "from sklearn.linear_model import LogisticRegression\n",
    "from sklearn.ensemble import AdaBoostClassifier\n",
    "from sklearn.ensemble import GradientBoostingClassifier\n",
    "from sklearn.svm import SVC"
   ]
  },
  {
   "cell_type": "code",
   "execution_count": 10,
   "metadata": {
    "collapsed": true
   },
   "outputs": [],
   "source": [
    "def GetCvScore(model,data,k=5): # five-fold cross-validation\n",
    "    '''this function implement the cross validation for all models\n",
    "        input:\n",
    "            data: sift_feature and ORB feature and RGB feature\n",
    "            model: sklearn model type\n",
    "            k: number of the folders\n",
    "        output:\n",
    "            average cv scores \n",
    "            average running time for 1 folder     \n",
    "    '''\n",
    "    seqindx=np.repeat(range(k),data.shape[0]/k) # generate a sequence\n",
    "    np.random.shuffle(seqindx) # shuffle the sequence\n",
    "    cvscore=[]\n",
    "    cvtime=[]\n",
    "    for i in range(k):\n",
    "        X=data.iloc[seqindx!=i,2:]\n",
    "        y=data.iloc[seqindx!=i,0]\n",
    "        clf = model\n",
    "        start_time = timeit.default_timer() # start_time\n",
    "        clf.fit(X, y) # train the model\n",
    "        thisscore=clf.score(data.iloc[seqindx==i,2:],data.iloc[seqindx==i,0])\n",
    "        elapsed = timeit.default_timer() - start_time # elapsed time \n",
    "        cvtime.append(elapsed)\n",
    "#         print(\"the score for the fold {} is {}\".format(i,thisscore))\n",
    "        cvscore.append(thisscore)\n",
    "    avg_score=sum(cvscore)/k\n",
    "    avg_time=sum(cvtime)/k\n",
    "    print(\"this model: avg score is {} avg_time {} \".format(avg_score,avg_time))\n",
    "    return [avg_score,avg_time]"
   ]
  },
  {
   "cell_type": "markdown",
   "metadata": {},
   "source": [
    "#### Fine tune list for logistic regression "
   ]
  },
  {
   "cell_type": "code",
   "execution_count": 11,
   "metadata": {},
   "outputs": [
    {
     "data": {
      "text/plain": [
       "[1e-05, 0.0001, 0.001, 0.01, 0.1, 1, 10, 100, 1000, 10000, 100000]"
      ]
     },
     "execution_count": 11,
     "metadata": {},
     "output_type": "execute_result"
    }
   ],
   "source": [
    "tune_list=[10**i for i in range(-5,6)]\n",
    "tune_list # tune parameter for cost"
   ]
  },
  {
   "cell_type": "markdown",
   "metadata": {},
   "source": [
    "## 2.1 sift_feature\n",
    "We also run the logistical regression with l1 penealty we found that the accuracy is not as good as L2"
   ]
  },
  {
   "cell_type": "markdown",
   "metadata": {},
   "source": [
    "### l2 penalty"
   ]
  },
  {
   "cell_type": "code",
   "execution_count": 15,
   "metadata": {},
   "outputs": [
    {
     "name": "stdout",
     "output_type": "stream",
     "text": [
      "this model: avg score is 0.31966666666666665 avg_time 0.18053152021805943 \n",
      "this model: avg score is 0.31933333333333336 avg_time 0.2867233996813937 \n",
      "this model: avg score is 0.31666666666666665 avg_time 0.21312714384703355 \n",
      "this model: avg score is 0.35 avg_time 0.1869217587371324 \n",
      "this model: avg score is 0.3426666666666667 avg_time 0.19325349466810024 \n",
      "this model: avg score is 0.5606666666666666 avg_time 0.2715170754941852 \n",
      "this model: avg score is 0.6396666666666666 avg_time 0.32862996046357296 \n",
      "this model: avg score is 0.7126666666666667 avg_time 0.4874881179438432 \n",
      "this model: avg score is 0.719 avg_time 0.622118819330798 \n",
      "this model: avg score is 0.6963333333333334 avg_time 1.0275420010428733 \n",
      "this model: avg score is 0.6819999999999999 avg_time 1.8618580766597248 \n"
     ]
    }
   ],
   "source": [
    "my_score=np.empty((len(tune_list),2))\n",
    "for i in range(len(tune_list)):\n",
    "    cost=tune_list[i]\n",
    "    my_score[i]=GetCvScore(LogisticRegression(penalty='l2',C=cost),data=sift_feature)"
   ]
  },
  {
   "cell_type": "code",
   "execution_count": 16,
   "metadata": {},
   "outputs": [
    {
     "data": {
      "image/png": "[encoded data removed]",
      "text/plain": [
       "<matplotlib.figure.Figure at 0x1b443184748>"
      ]
     },
     "metadata": {},
     "output_type": "display_data"
    }
   ],
   "source": [
    "t = np.log10(tune_list)\n",
    "data1 =  my_score[:,0]\n",
    "data2 = my_score[:,1]\n",
    "fig, ax1 = plt.subplots()\n",
    "\n",
    "color1 = 'tab:red'\n",
    "ax1.set_xlabel('log cost:tunning parameter')\n",
    "ax1.set_ylabel('score', color=color1)\n",
    "ax1.plot(t, data1, color=color1)\n",
    "ax1.tick_params(axis='y', labelcolor=color1)\n",
    "ax2 = ax1.twinx()  # instantiate a second axes that shares the same x-axis\n",
    "\n",
    "color2 = 'tab:blue'\n",
    "ax2.set_ylabel('time', color=color2)  # we already handled the x-label with ax1\n",
    "ax2.plot(t, data2, color=color2)\n",
    "ax2.tick_params(axis='y', labelcolor=color2)\n",
    "fig.tight_layout()  # otherwise the right y-label is slightly clipped\n",
    "plt.title('Cross-validation: Logistic regression with L2 penalty')\n",
    "plt.show()"
   ]
  },
  {
   "cell_type": "code",
   "execution_count": 17,
   "metadata": {},
   "outputs": [
    {
     "data": {
      "text/plain": [
       "0.71899999999999997"
      ]
     },
     "execution_count": 17,
     "metadata": {},
     "output_type": "execute_result"
    }
   ],
   "source": [
    "np.max(my_score[:,0])#  max_score for logistic with L2 penalty"
   ]
  },
  {
   "cell_type": "code",
   "execution_count": 18,
   "metadata": {},
   "outputs": [
    {
     "name": "stdout",
     "output_type": "stream",
     "text": [
      "this model: avg score is 0.7310000000000001 avg_time 9.497900429907869 \n"
     ]
    },
    {
     "data": {
      "text/plain": [
       "[0.73100000000000009, 9.497900429907869]"
      ]
     },
     "execution_count": 18,
     "metadata": {},
     "output_type": "execute_result"
    }
   ],
   "source": [
    "GetCvScore(LogisticRegression(penalty='l2',C=1000,multi_class=\"multinomial\",solver=\"sag\",n_jobs=-1),data=sift_feature)"
   ]
  },
  {
   "cell_type": "markdown",
   "metadata": {},
   "source": [
    "## 2.2 rgb_feature\n",
    "### l2 penalty"
   ]
  },
  {
   "cell_type": "code",
   "execution_count": 19,
   "metadata": {},
   "outputs": [
    {
     "name": "stdout",
     "output_type": "stream",
     "text": [
      "this model: avg score is 0.31833333333333336 avg_time 1.31327266185545 \n",
      "this model: avg score is 0.325 avg_time 1.4779780422473947 \n",
      "this model: avg score is 0.32433333333333336 avg_time 1.3657585090291264 \n",
      "this model: avg score is 0.4293333333333333 avg_time 1.4570162285194725 \n",
      "this model: avg score is 0.5336666666666667 avg_time 1.5953861724661238 \n",
      "this model: avg score is 0.643 avg_time 1.677469816397877 \n",
      "this model: avg score is 0.6906666666666668 avg_time 1.73488128610515 \n",
      "this model: avg score is 0.7153333333333334 avg_time 5.154810237870867 \n",
      "this model: avg score is 0.7230000000000001 avg_time 5.221291085657873 \n",
      "this model: avg score is 0.7186666666666668 avg_time 5.98980217017525 \n",
      "this model: avg score is 0.7233333333333333 avg_time 5.202098298296721 \n"
     ]
    }
   ],
   "source": [
    "my_score=np.empty((len(tune_list),2))\n",
    "for i in range(len(tune_list)):\n",
    "    cost=tune_list[i]\n",
    "    my_score[i]=GetCvScore(LogisticRegression(penalty='l2',solver=\"sag\",C=cost,n_jobs=-1),data=rgb_feature)"
   ]
  },
  {
   "cell_type": "code",
   "execution_count": 20,
   "metadata": {},
   "outputs": [
    {
     "data": {
      "image/png": "[encoded data removed]",
      "text/plain": [
       "<matplotlib.figure.Figure at 0x1b4414d65c0>"
      ]
     },
     "metadata": {},
     "output_type": "display_data"
    }
   ],
   "source": [
    "t = np.log10(tune_list)\n",
    "data1 =  my_score[:,0]\n",
    "data2 = my_score[:,1]\n",
    "fig, ax1 = plt.subplots()\n",
    "\n",
    "color1 = 'tab:red'\n",
    "ax1.set_xlabel('log cost:tunning parameter')\n",
    "ax1.set_ylabel('score', color=color1)\n",
    "ax1.plot(t, data1, color=color1)\n",
    "ax1.tick_params(axis='y', labelcolor=color1)\n",
    "ax2 = ax1.twinx()  # instantiate a second axes that shares the same x-axis\n",
    "\n",
    "color2 = 'tab:blue'\n",
    "ax2.set_ylabel('time', color=color2)  # we already handled the x-label with ax1\n",
    "ax2.plot(t, data2, color=color2)\n",
    "ax2.tick_params(axis='y', labelcolor=color2)\n",
    "fig.tight_layout()  # otherwise the right y-label is slightly clipped\n",
    "plt.title('Cross-validation: Logistic regression with L1 penalty')\n",
    "plt.show()"
   ]
  },
  {
   "cell_type": "code",
   "execution_count": 21,
   "metadata": {},
   "outputs": [
    {
     "data": {
      "text/plain": [
       "0.72333333333333327"
      ]
     },
     "execution_count": 21,
     "metadata": {},
     "output_type": "execute_result"
    }
   ],
   "source": [
    "np.max(my_score[:,0])#  max_score for logistic with L2 penalty"
   ]
  },
  {
   "cell_type": "markdown",
   "metadata": {},
   "source": [
    "### l1 penalty "
   ]
  },
  {
   "cell_type": "code",
   "execution_count": 22,
   "metadata": {},
   "outputs": [
    {
     "name": "stdout",
     "output_type": "stream",
     "text": [
      "this model: avg score is 0.7356666666666667 avg_time 14.597713804190278 \n"
     ]
    },
    {
     "data": {
      "text/plain": [
       "[0.73566666666666669, 14.597713804190278]"
      ]
     },
     "execution_count": 22,
     "metadata": {},
     "output_type": "execute_result"
    }
   ],
   "source": [
    "GetCvScore(LogisticRegression(penalty='l1',solver='liblinear',C=100,n_jobs=-1),data=rgb_feature)"
   ]
  },
  {
   "cell_type": "code",
   "execution_count": 23,
   "metadata": {},
   "outputs": [
    {
     "name": "stdout",
     "output_type": "stream",
     "text": [
      "this model: avg score is 0.3333333333333333 avg_time 0.16157069192644258 \n",
      "this model: avg score is 0.33333333333333337 avg_time 0.14853126093589708 \n",
      "this model: avg score is 0.3333333333333333 avg_time 0.15686160281501316 \n",
      "this model: avg score is 0.31766666666666665 avg_time 0.16461454958546257 \n",
      "this model: avg score is 0.402 avg_time 0.20261866774098963 \n",
      "this model: avg score is 0.6693333333333333 avg_time 0.2597851322195311 \n",
      "this model: avg score is 0.728 avg_time 0.8533379500873594 \n",
      "this model: avg score is 0.7306666666666667 avg_time 13.411952086954694 \n",
      "this model: avg score is 0.7023333333333333 avg_time 25.74128251950051 \n",
      "this model: avg score is 0.6839999999999999 avg_time 98.99671491147282 \n",
      "this model: avg score is 0.6503333333333334 avg_time 367.46051382995444 \n"
     ]
    }
   ],
   "source": [
    "my_score=np.empty((len(tune_list),2))\n",
    "for i in range(len(tune_list)):\n",
    "    cost=tune_list[i]\n",
    "    my_score[i]=GetCvScore(LogisticRegression(penalty='l1',solver=\"liblinear\",C=cost,n_jobs=-1),data=rgb_feature)"
   ]
  },
  {
   "cell_type": "code",
   "execution_count": 24,
   "metadata": {},
   "outputs": [
    {
     "data": {
      "text/plain": [
       "0.73066666666666669"
      ]
     },
     "execution_count": 24,
     "metadata": {},
     "output_type": "execute_result"
    }
   ],
   "source": [
    "np.max(my_score[:,0])"
   ]
  },
  {
   "cell_type": "markdown",
   "metadata": {},
   "source": [
    "## 2.3 orbfeature"
   ]
  },
  {
   "cell_type": "code",
   "execution_count": 25,
   "metadata": {},
   "outputs": [
    {
     "name": "stdout",
     "output_type": "stream",
     "text": [
      "this model: avg score is 0.30266666666666664 avg_time 0.1555045561044608 \n",
      "this model: avg score is 0.312 avg_time 0.155501192000429 \n",
      "this model: avg score is 0.31866666666666665 avg_time 0.1756469233425378 \n",
      "this model: avg score is 0.311 avg_time 0.19054276535080134 \n",
      "this model: avg score is 0.376 avg_time 0.22204201929944248 \n",
      "this model: avg score is 0.6136666666666666 avg_time 0.34409499244911784 \n",
      "this model: avg score is 0.696 avg_time 0.4469061936025355 \n",
      "this model: avg score is 0.7706666666666667 avg_time 0.6521411495964458 \n",
      "this model: avg score is 0.8140000000000001 avg_time 0.9575967005524945 \n",
      "this model: avg score is 0.8146666666666667 avg_time 1.582779480114641 \n",
      "this model: avg score is 0.7953333333333333 avg_time 2.0676074944030916 \n"
     ]
    }
   ],
   "source": [
    "my_score=np.empty((len(tune_list),2))\n",
    "for i in range(len(tune_list)):\n",
    "    cost=tune_list[i]\n",
    "    my_score[i]=GetCvScore(LogisticRegression(penalty='l2',solver=\"liblinear\",C=cost,n_jobs=-1),data=orbfeature)"
   ]
  },
  {
   "cell_type": "code",
   "execution_count": 26,
   "metadata": {},
   "outputs": [
    {
     "name": "stdout",
     "output_type": "stream",
     "text": [
      "this model: avg score is 0.33333333333333337 avg_time 0.1890494314047828 \n",
      "this model: avg score is 0.3333333333333333 avg_time 0.2102471426655029 \n",
      "this model: avg score is 0.3333333333333333 avg_time 0.19348438707065724 \n",
      "this model: avg score is 0.3166666666666666 avg_time 0.22096009065035105 \n",
      "this model: avg score is 0.32 avg_time 0.232923910943191 \n",
      "this model: avg score is 0.41 avg_time 0.24736289122574817 \n",
      "this model: avg score is 0.7166666666666668 avg_time 0.4161348168759105 \n",
      "this model: avg score is 0.8016666666666667 avg_time 7.628520298879994 \n",
      "this model: avg score is 0.768 avg_time 14.187437697410314 \n",
      "this model: avg score is 0.7646666666666666 avg_time 2.0244831279930624 \n",
      "this model: avg score is 0.7793333333333333 avg_time 0.9740677637202679 \n"
     ]
    }
   ],
   "source": [
    "my_score=np.empty((len(tune_list),2))\n",
    "for i in range(len(tune_list)):\n",
    "    cost=tune_list[i]\n",
    "    my_score[i]=GetCvScore(LogisticRegression(penalty='l1',solver=\"liblinear\",C=cost,n_jobs=-1),data=orbfeature)"
   ]
  },
  {
   "cell_type": "markdown",
   "metadata": {},
   "source": [
    "# conclusion for logistic regression"
   ]
  },
  {
   "cell_type": "markdown",
   "metadata": {},
   "source": [
    "The accuracy for all the fine-tuned model for logistic regression is around 70-80% <br>\n",
    "There are several things to consider: <br>\n",
    "1. Regularization method <br>\n",
    "   1.1 L1 penalty:  $ |\\beta|^{1}_1 $ Norm of parameter  <br>\n",
    "   1.2 L2 penalty: $ |\\beta|^{2}_2 $  unit length <br>\n",
    "2. Feature <br>\n",
    "    Sift_feature <br>\n",
    "    Orb_feature <br>\n",
    "    Rgb_feature <br>\n",
    "3. Tunning parameter:<br>\n",
    "This represent the degree of penalty, in this case, the larger the value for c, the less we penalize.\n"
   ]
  },
  {
   "cell_type": "markdown",
   "metadata": {},
   "source": [
    "### best model for logistic regression  0.82 "
   ]
  },
  {
   "cell_type": "markdown",
   "metadata": {},
   "source": [
    "The best model:\n",
    "1. orbfeature \n",
    "2. l2 penalty\n",
    "3. lilinear method \n",
    "4. cost=1000 <br><br>\n",
    "Performance: <br>\n",
    "The corresponding time is 1 second per run\n",
    "5-fold cv-score is 0.82"
   ]
  },
  {
   "cell_type": "code",
   "execution_count": 27,
   "metadata": {
    "collapsed": true
   },
   "outputs": [],
   "source": [
    "# end"
   ]
  },
  {
   "cell_type": "code",
   "execution_count": 30,
   "metadata": {},
   "outputs": [
    {
     "data": {
      "text/plain": [
       "0.22222222222222221"
      ]
     },
     "execution_count": 30,
     "metadata": {},
     "output_type": "execute_result"
    }
   ],
   "source": [
    "from sklearn import metrics\n",
    "y_true = [0, 1, 2, 0, 1, 2]\n",
    "y_pred = [0, 2, 1, 0, 0, 1]\n",
    "metrics.precision_score(y_true, y_pred, average='macro')  "
   ]
  },
  {
   "cell_type": "code",
   "execution_count": 34,
   "metadata": {},
   "outputs": [
    {
     "data": {
      "text/plain": [
       "0.33333333333333331"
      ]
     },
     "execution_count": 34,
     "metadata": {},
     "output_type": "execute_result"
    }
   ],
   "source": [
    "metrics.precision_score(y_true, y_pred, average='micro')"
   ]
  },
  {
   "cell_type": "code",
   "execution_count": 35,
   "metadata": {},
   "outputs": [
    {
     "ename": "ValueError",
     "evalue": "Sample-based precision, recall, fscore is not meaningful outside multilabel classification. See the accuracy_score instead.",
     "output_type": "error",
     "traceback": [
      "\u001b[1;31m---------------------------------------------------------------------------\u001b[0m",
      "\u001b[1;31mValueError\u001b[0m                                Traceback (most recent call last)",
      "\u001b[1;32m<ipython-input-35-dd27f85502cd>\u001b[0m in \u001b[0;36m<module>\u001b[1;34m()\u001b[0m\n\u001b[1;32m----> 1\u001b[1;33m \u001b[0mmetrics\u001b[0m\u001b[1;33m.\u001b[0m\u001b[0mprecision_score\u001b[0m\u001b[1;33m(\u001b[0m\u001b[0my_true\u001b[0m\u001b[1;33m,\u001b[0m \u001b[0my_pred\u001b[0m\u001b[1;33m,\u001b[0m \u001b[0maverage\u001b[0m\u001b[1;33m=\u001b[0m\u001b[1;34m'samples'\u001b[0m\u001b[1;33m)\u001b[0m\u001b[1;33m\u001b[0m\u001b[0m\n\u001b[0m",
      "\u001b[1;32mC:\\Wesley_Tao\\6.Software\\Anaconda\\lib\\site-packages\\sklearn\\metrics\\classification.py\u001b[0m in \u001b[0;36mprecision_score\u001b[1;34m(y_true, y_pred, labels, pos_label, average, sample_weight)\u001b[0m\n\u001b[0;32m   1259\u001b[0m                                                  \u001b[0maverage\u001b[0m\u001b[1;33m=\u001b[0m\u001b[0maverage\u001b[0m\u001b[1;33m,\u001b[0m\u001b[1;33m\u001b[0m\u001b[0m\n\u001b[0;32m   1260\u001b[0m                                                  \u001b[0mwarn_for\u001b[0m\u001b[1;33m=\u001b[0m\u001b[1;33m(\u001b[0m\u001b[1;34m'precision'\u001b[0m\u001b[1;33m,\u001b[0m\u001b[1;33m)\u001b[0m\u001b[1;33m,\u001b[0m\u001b[1;33m\u001b[0m\u001b[0m\n\u001b[1;32m-> 1261\u001b[1;33m                                                  sample_weight=sample_weight)\n\u001b[0m\u001b[0;32m   1262\u001b[0m     \u001b[1;32mreturn\u001b[0m \u001b[0mp\u001b[0m\u001b[1;33m\u001b[0m\u001b[0m\n\u001b[0;32m   1263\u001b[0m \u001b[1;33m\u001b[0m\u001b[0m\n",
      "\u001b[1;32mC:\\Wesley_Tao\\6.Software\\Anaconda\\lib\\site-packages\\sklearn\\metrics\\classification.py\u001b[0m in \u001b[0;36mprecision_recall_fscore_support\u001b[1;34m(y_true, y_pred, beta, labels, pos_label, average, warn_for, sample_weight)\u001b[0m\n\u001b[0;32m   1082\u001b[0m \u001b[1;33m\u001b[0m\u001b[0m\n\u001b[0;32m   1083\u001b[0m     \u001b[1;32melif\u001b[0m \u001b[0maverage\u001b[0m \u001b[1;33m==\u001b[0m \u001b[1;34m'samples'\u001b[0m\u001b[1;33m:\u001b[0m\u001b[1;33m\u001b[0m\u001b[0m\n\u001b[1;32m-> 1084\u001b[1;33m         raise ValueError(\"Sample-based precision, recall, fscore is \"\n\u001b[0m\u001b[0;32m   1085\u001b[0m                          \u001b[1;34m\"not meaningful outside multilabel \"\u001b[0m\u001b[1;33m\u001b[0m\u001b[0m\n\u001b[0;32m   1086\u001b[0m                          \"classification. See the accuracy_score instead.\")\n",
      "\u001b[1;31mValueError\u001b[0m: Sample-based precision, recall, fscore is not meaningful outside multilabel classification. See the accuracy_score instead."
     ]
    }
   ],
   "source": [
    "metrics.precision_score(y_true, y_pred, average='samples')"
   ]
  }
 ],
 "metadata": {
  "kernelspec": {
   "display_name": "Python 3",
   "language": "python",
   "name": "python3"
  },
  "language_info": {
   "codemirror_mode": {
    "name": "ipython",
    "version": 3
   },
   "file_extension": ".py",
   "mimetype": "text/x-python",
   "name": "python",
   "nbconvert_exporter": "python",
   "pygments_lexer": "ipython3",
   "version": "3.6.1"
  }
 },
 "nbformat": 4,
 "nbformat_minor": 2
}
