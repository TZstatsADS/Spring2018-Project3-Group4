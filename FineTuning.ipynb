{
 "cells": [
  {
   "cell_type": "code",
   "execution_count": 60,
   "metadata": {},
   "outputs": [],
   "source": [
    "from keras.applications.inception_v3 import InceptionV3\n",
    "from keras.preprocessing import image\n",
    "from keras.models import Model\n",
    "from keras.layers import Dense, GlobalAveragePooling2D\n",
    "from keras import backend as K\n",
    "from keras.callbacks import ModelCheckpoint\n",
    "from keras.preprocessing.image import ImageDataGenerator\n",
    "from keras.applications.xception import Xception\n",
    "from keras.applications.mobilenet import MobileNet\n",
    "import pickle as pkl\n",
    "import numpy as np\n",
    "import time"
   ]
  },
  {
   "cell_type": "markdown",
   "metadata": {},
   "source": [
    "## Load data"
   ]
  },
  {
   "cell_type": "code",
   "execution_count": 64,
   "metadata": {
    "collapsed": true
   },
   "outputs": [],
   "source": [
    "with open(\"data/X_train224.pkl\", \"rb\") as input_file:\n",
    "     X_train,y_train = pkl.load(input_file)\n",
    "X_train = X_train.astype(np.float32)/255"
   ]
  },
  {
   "cell_type": "code",
   "execution_count": 65,
   "metadata": {},
   "outputs": [
    {
     "data": {
      "text/plain": [
       "((3000, 224, 224, 3), (3000,))"
      ]
     },
     "execution_count": 65,
     "metadata": {},
     "output_type": "execute_result"
    }
   ],
   "source": [
    "X_train.shape, y_train.shape"
   ]
  },
  {
   "cell_type": "code",
   "execution_count": 66,
   "metadata": {
    "collapsed": true
   },
   "outputs": [],
   "source": [
    "y_train = y_train - 1"
   ]
  },
  {
   "cell_type": "code",
   "execution_count": 67,
   "metadata": {
    "collapsed": true
   },
   "outputs": [],
   "source": [
    "y_train_OH = np.zeros((3000,3))\n",
    "y_train_OH[np.arange(3000), y_train] = 1"
   ]
  },
  {
   "cell_type": "code",
   "execution_count": 68,
   "metadata": {},
   "outputs": [
    {
     "name": "stdout",
     "output_type": "stream",
     "text": [
      "(2100, 224, 224, 3) (900, 224, 224, 3)\n"
     ]
    }
   ],
   "source": [
    "num_train,height,weight,channels = X_train.shape\n",
    "np.random.seed(10)\n",
    "index = np.random.choice(num_train,num_train,replace=False)\n",
    "X_train = X_train[index]\n",
    "y_train_OH = y_train_OH[index]\n",
    "\n",
    "num_val = int(num_train*0.3)\n",
    "X_val = X_train[:num_val]\n",
    "y_val_OH = y_train_OH[:num_val]\n",
    "\n",
    "X_train = X_train[num_val:]\n",
    "y_train_OH = y_train_OH[num_val:]\n",
    "\n",
    "# X_train = X_train.reshape([X_train.shape[0],-1])\n",
    "# X_val = X_val.reshape([X_val.shape[0],-1])\n",
    "# mean_image = np.mean(X_train, axis=0)\n",
    "# X_train = X_train.astype(np.float32) - mean_image.astype(np.float32)\n",
    "# X_val = X_val.astype(np.float32) - mean_image\n",
    "# X_train = X_train.reshape([num_train-num_val,height,weight,channels])\n",
    "# X_val = X_val.reshape([num_val,height,weight,channels])\n",
    "\n",
    "print(X_train.shape,X_val.shape)"
   ]
  },
  {
   "cell_type": "markdown",
   "metadata": {},
   "source": [
    "## InceptionV3"
   ]
  },
  {
   "cell_type": "code",
   "execution_count": 37,
   "metadata": {
    "collapsed": true
   },
   "outputs": [],
   "source": [
    "# create the base pre-trained model\n",
    "base_model = InceptionV3(weights='imagenet', include_top=False)\n",
    "\n",
    "# add a global spatial average pooling layer\n",
    "x = base_model.output\n",
    "x = GlobalAveragePooling2D()(x)\n",
    "# let's add a fully-connected layer\n",
    "x = Dense(1024, activation='relu')(x)\n",
    "# and a logistic layer \n",
    "predictions = Dense(3, activation='softmax')(x)\n",
    "\n",
    "# this is the model we will train\n",
    "model = Model(inputs=base_model.input, outputs=predictions)\n",
    "\n",
    "# first: train only the top layers (which were randomly initialized)\n",
    "# i.e. freeze all convolutional InceptionV3 layers\n",
    "for layer in base_model.layers:\n",
    "    layer.trainable = False"
   ]
  },
  {
   "cell_type": "markdown",
   "metadata": {},
   "source": [
    "### Training"
   ]
  },
  {
   "cell_type": "code",
   "execution_count": 38,
   "metadata": {},
   "outputs": [
    {
     "name": "stdout",
     "output_type": "stream",
     "text": [
      "Train on 2100 samples, validate on 900 samples\n",
      "Epoch 1/20\n",
      "\n",
      "Epoch 00001: val_loss improved from inf to 2.01083, saving model to keras_model/inceptionV3_best_1521494355.hdf5\n",
      " - 92s - loss: 1.9194 - val_loss: 2.0108\n",
      "Epoch 2/20\n",
      "\n",
      "Epoch 00002: val_loss improved from 2.01083 to 0.21936, saving model to keras_model/inceptionV3_best_1521494355.hdf5\n",
      " - 33s - loss: 0.3656 - val_loss: 0.2194\n",
      "Epoch 3/20\n",
      "\n",
      "Epoch 00003: val_loss improved from 0.21936 to 0.02147, saving model to keras_model/inceptionV3_best_1521494355.hdf5\n",
      " - 33s - loss: 0.2280 - val_loss: 0.0215\n",
      "Epoch 4/20\n",
      "\n",
      "Epoch 00004: val_loss did not improve\n",
      " - 34s - loss: 0.1563 - val_loss: 0.1690\n",
      "Epoch 5/20\n",
      "\n",
      "Epoch 00005: val_loss did not improve\n",
      " - 35s - loss: 0.1759 - val_loss: 0.0249\n",
      "Epoch 6/20\n",
      "\n",
      "Epoch 00006: val_loss did not improve\n",
      " - 34s - loss: 0.1951 - val_loss: 0.1110\n",
      "Epoch 7/20\n",
      "\n",
      "Epoch 00007: val_loss did not improve\n",
      " - 35s - loss: 0.1335 - val_loss: 0.0817\n",
      "Epoch 8/20\n",
      "\n",
      "Epoch 00008: val_loss did not improve\n",
      " - 34s - loss: 0.1343 - val_loss: 0.0779\n",
      "Epoch 9/20\n",
      "\n",
      "Epoch 00009: val_loss did not improve\n",
      " - 34s - loss: 0.0812 - val_loss: 0.0515\n",
      "Epoch 10/20\n",
      "\n",
      "Epoch 00010: val_loss did not improve\n",
      " - 35s - loss: 0.0790 - val_loss: 0.0588\n",
      "Epoch 11/20\n",
      "\n",
      "Epoch 00011: val_loss did not improve\n",
      " - 35s - loss: 0.0861 - val_loss: 0.0520\n",
      "Epoch 12/20\n",
      "\n",
      "Epoch 00012: val_loss did not improve\n",
      " - 34s - loss: 0.0635 - val_loss: 0.0251\n",
      "Epoch 13/20\n",
      "\n",
      "Epoch 00013: val_loss did not improve\n",
      " - 34s - loss: 0.0915 - val_loss: 0.0326\n",
      "Epoch 14/20\n",
      "\n",
      "Epoch 00014: val_loss did not improve\n",
      " - 35s - loss: 0.0615 - val_loss: 0.0375\n",
      "Epoch 15/20\n",
      "\n",
      "Epoch 00015: val_loss did not improve\n",
      " - 35s - loss: 0.0417 - val_loss: 1.2347\n",
      "Epoch 16/20\n",
      "\n",
      "Epoch 00016: val_loss did not improve\n",
      " - 35s - loss: 0.0902 - val_loss: 0.0772\n",
      "Epoch 17/20\n",
      "\n",
      "Epoch 00017: val_loss did not improve\n",
      " - 35s - loss: 0.0660 - val_loss: 0.0319\n",
      "Epoch 18/20\n",
      "\n",
      "Epoch 00018: val_loss did not improve\n",
      " - 35s - loss: 0.0933 - val_loss: 0.1555\n",
      "Epoch 19/20\n",
      "\n",
      "Epoch 00019: val_loss did not improve\n",
      " - 35s - loss: 0.1024 - val_loss: 0.0900\n",
      "Epoch 20/20\n",
      "\n",
      "Epoch 00020: val_loss did not improve\n",
      " - 35s - loss: 0.0230 - val_loss: 0.0433\n"
     ]
    },
    {
     "data": {
      "text/plain": [
       "<keras.callbacks.History at 0x214c9383780>"
      ]
     },
     "execution_count": 38,
     "metadata": {},
     "output_type": "execute_result"
    }
   ],
   "source": [
    "# compile the model (should be done *after* setting layers to non-trainable)\n",
    "model.compile(optimizer='rmsprop', loss='categorical_crossentropy')\n",
    "\n",
    "# save the best model\n",
    "train_time = str(int(time.time()))\n",
    "checkpointer = ModelCheckpoint(filepath='keras_model/inceptionV3_best_'+train_time+'.hdf5', verbose=1, save_best_only=True)\n",
    "\n",
    "# train the model on the new data for a few epochs\n",
    "model.fit(x=X_train, y=y_train_OH, batch_size=32,\n",
    "          epochs=20, verbose=2, validation_data=(X_val, y_val_OH), shuffle = True, callbacks=[checkpointer])"
   ]
  },
  {
   "cell_type": "code",
   "execution_count": 40,
   "metadata": {
    "collapsed": true
   },
   "outputs": [],
   "source": [
    "model.load_weights('keras_model/inceptionV3_best_1521494355.hdf5')"
   ]
  },
  {
   "cell_type": "code",
   "execution_count": 41,
   "metadata": {},
   "outputs": [
    {
     "data": {
      "text/plain": [
       "0.9922222222222222"
      ]
     },
     "execution_count": 41,
     "metadata": {},
     "output_type": "execute_result"
    }
   ],
   "source": [
    "# val accuracy\n",
    "np.mean(np.argmax(model.predict(X_val),axis=1)==np.argmax(y_val_OH, axis=1))"
   ]
  },
  {
   "cell_type": "code",
   "execution_count": 42,
   "metadata": {},
   "outputs": [
    {
     "data": {
      "text/plain": [
       "0.9928571428571429"
      ]
     },
     "execution_count": 42,
     "metadata": {},
     "output_type": "execute_result"
    }
   ],
   "source": [
    "# train accuracy\n",
    "np.mean(np.argmax(model.predict(X_train),axis=1)==np.argmax(y_train_OH, axis=1))"
   ]
  },
  {
   "cell_type": "markdown",
   "metadata": {},
   "source": [
    "## Xception"
   ]
  },
  {
   "cell_type": "code",
   "execution_count": 1,
   "metadata": {},
   "outputs": [
    {
     "name": "stderr",
     "output_type": "stream",
     "text": [
      "E:\\Program\\Anaconda3\\lib\\site-packages\\h5py\\__init__.py:34: FutureWarning: Conversion of the second argument of issubdtype from `float` to `np.floating` is deprecated. In future, it will be treated as `np.float64 == np.dtype(float).type`.\n",
      "  from ._conv import register_converters as _register_converters\n",
      "Using TensorFlow backend.\n"
     ]
    }
   ],
   "source": [
    "from keras.applications.xception import Xception"
   ]
  },
  {
   "cell_type": "code",
   "execution_count": 3,
   "metadata": {},
   "outputs": [
    {
     "name": "stdout",
     "output_type": "stream",
     "text": [
      "Downloading data from https://github.com/fchollet/deep-learning-models/releases/download/v0.4/xception_weights_tf_dim_ordering_tf_kernels_notop.h5\n",
      "83689472/83683744 [==============================] - 23s 0us/step\n"
     ]
    }
   ],
   "source": [
    "# create the base pre-trained model\n",
    "base_model = Xception(weights='imagenet', include_top=False)\n",
    "\n",
    "# add a global spatial average pooling layer\n",
    "x = base_model.output\n",
    "x = GlobalAveragePooling2D()(x)\n",
    "# let's add a fully-connected layer\n",
    "x = Dense(1024, activation='relu')(x)\n",
    "# and a logistic layer\n",
    "predictions = Dense(3, activation='softmax')(x)\n",
    "\n",
    "# this is the model we will train\n",
    "model = Model(inputs=base_model.input, outputs=predictions)\n",
    "\n",
    "# first: train only the top layers (which were randomly initialized)\n",
    "# i.e. freeze all convolutional InceptionV3 layers\n",
    "for layer in base_model.layers:\n",
    "    layer.trainable = False"
   ]
  },
  {
   "cell_type": "markdown",
   "metadata": {},
   "source": [
    "### Training"
   ]
  },
  {
   "cell_type": "code",
   "execution_count": 9,
   "metadata": {},
   "outputs": [
    {
     "name": "stdout",
     "output_type": "stream",
     "text": [
      "Train on 2100 samples, validate on 900 samples\n",
      "Epoch 1/20\n",
      "\n",
      "Epoch 00001: val_loss improved from inf to 0.04477, saving model to keras_model/xception_best_1521505472.hdf5\n",
      " - 56s - loss: 0.3402 - val_loss: 0.0448\n",
      "Epoch 2/20\n",
      "\n",
      "Epoch 00002: val_loss improved from 0.04477 to 0.02538, saving model to keras_model/xception_best_1521505472.hdf5\n",
      " - 47s - loss: 0.1076 - val_loss: 0.0254\n",
      "Epoch 3/20\n",
      "\n",
      "Epoch 00003: val_loss improved from 0.02538 to 0.01980, saving model to keras_model/xception_best_1521505472.hdf5\n",
      " - 48s - loss: 0.1308 - val_loss: 0.0198\n",
      "Epoch 4/20\n",
      "\n",
      "Epoch 00004: val_loss improved from 0.01980 to 0.01499, saving model to keras_model/xception_best_1521505472.hdf5\n",
      " - 49s - loss: 0.0667 - val_loss: 0.0150\n",
      "Epoch 5/20\n",
      "\n",
      "Epoch 00005: val_loss improved from 0.01499 to 0.01185, saving model to keras_model/xception_best_1521505472.hdf5\n",
      " - 49s - loss: 0.0650 - val_loss: 0.0118\n",
      "Epoch 6/20\n",
      "\n",
      "Epoch 00006: val_loss did not improve\n",
      " - 46s - loss: 0.0684 - val_loss: 0.1694\n",
      "Epoch 7/20\n",
      "\n",
      "Epoch 00007: val_loss did not improve\n",
      " - 47s - loss: 0.0283 - val_loss: 0.0517\n",
      "Epoch 8/20\n",
      "\n",
      "Epoch 00008: val_loss did not improve\n",
      " - 48s - loss: 0.0660 - val_loss: 0.0287\n",
      "Epoch 9/20\n",
      "\n",
      "Epoch 00009: val_loss did not improve\n",
      " - 48s - loss: 0.0208 - val_loss: 0.1884\n",
      "Epoch 10/20\n",
      "\n",
      "Epoch 00010: val_loss did not improve\n",
      " - 49s - loss: 0.0577 - val_loss: 0.0775\n",
      "Epoch 11/20\n",
      "\n",
      "Epoch 00011: val_loss did not improve\n",
      " - 48s - loss: 0.0503 - val_loss: 0.0995\n",
      "Epoch 12/20\n",
      "\n",
      "Epoch 00012: val_loss did not improve\n",
      " - 49s - loss: 0.0488 - val_loss: 0.4812\n",
      "Epoch 13/20\n",
      "\n",
      "Epoch 00013: val_loss did not improve\n",
      " - 49s - loss: 0.0326 - val_loss: 0.1674\n",
      "Epoch 14/20\n",
      "\n",
      "Epoch 00014: val_loss did not improve\n",
      " - 49s - loss: 0.0330 - val_loss: 0.0372\n",
      "Epoch 15/20\n",
      "\n",
      "Epoch 00015: val_loss did not improve\n",
      " - 48s - loss: 0.0308 - val_loss: 0.1797\n",
      "Epoch 16/20\n",
      "\n",
      "Epoch 00016: val_loss did not improve\n",
      " - 48s - loss: 0.0636 - val_loss: 0.0259\n",
      "Epoch 17/20\n",
      "\n",
      "Epoch 00017: val_loss did not improve\n",
      " - 48s - loss: 0.0213 - val_loss: 0.0541\n",
      "Epoch 18/20\n",
      "\n",
      "Epoch 00018: val_loss did not improve\n",
      " - 48s - loss: 0.0403 - val_loss: 0.0980\n",
      "Epoch 19/20\n",
      "\n",
      "Epoch 00019: val_loss did not improve\n",
      " - 48s - loss: 0.0165 - val_loss: 0.0370\n",
      "Epoch 20/20\n",
      "\n",
      "Epoch 00020: val_loss did not improve\n",
      " - 49s - loss: 0.0641 - val_loss: 0.0565\n"
     ]
    },
    {
     "data": {
      "text/plain": [
       "<keras.callbacks.History at 0x20b4ecdb7b8>"
      ]
     },
     "execution_count": 9,
     "metadata": {},
     "output_type": "execute_result"
    }
   ],
   "source": [
    "# compile the model (should be done *after* setting layers to non-trainable)\n",
    "model.compile(optimizer='rmsprop', loss='categorical_crossentropy')\n",
    "\n",
    "# save the best model\n",
    "train_time = str(int(time.time()))\n",
    "checkpointer = ModelCheckpoint(filepath='keras_model/xception_best_'+train_time+'.hdf5', verbose=1, save_best_only=True)\n",
    "\n",
    "# train the model on the new data for a few epochs\n",
    "model.fit(x=X_train, y=y_train_OH, batch_size=32,\n",
    "          epochs=20, verbose=2, validation_data=(X_val, y_val_OH), shuffle = True, callbacks=[checkpointer])"
   ]
  },
  {
   "cell_type": "code",
   "execution_count": 10,
   "metadata": {
    "collapsed": true
   },
   "outputs": [],
   "source": [
    "model.load_weights('keras_model/xception_best_1521505472.hdf5')"
   ]
  },
  {
   "cell_type": "code",
   "execution_count": 11,
   "metadata": {},
   "outputs": [
    {
     "data": {
      "text/plain": [
       "0.9944444444444445"
      ]
     },
     "execution_count": 11,
     "metadata": {},
     "output_type": "execute_result"
    }
   ],
   "source": [
    "# val accuracy\n",
    "np.mean(np.argmax(model.predict(X_val),axis=1)==np.argmax(y_val_OH, axis=1))"
   ]
  },
  {
   "cell_type": "code",
   "execution_count": 12,
   "metadata": {},
   "outputs": [
    {
     "data": {
      "text/plain": [
       "0.9980952380952381"
      ]
     },
     "execution_count": 12,
     "metadata": {},
     "output_type": "execute_result"
    }
   ],
   "source": [
    "# train accuracy\n",
    "np.mean(np.argmax(model.predict(X_train),axis=1)==np.argmax(y_train_OH, axis=1))"
   ]
  },
  {
   "cell_type": "markdown",
   "metadata": {},
   "source": [
    "## Mobile Net"
   ]
  },
  {
   "cell_type": "code",
   "execution_count": 74,
   "metadata": {},
   "outputs": [],
   "source": [
    "# create the base pre-trained model\n",
    "base_model = MobileNet(input_shape=(224, 224, 3),weights='imagenet', include_top=False)\n",
    "\n",
    "# add a global spatial average pooling layer\n",
    "x = base_model.output\n",
    "x = GlobalAveragePooling2D()(x)\n",
    "# let's add a fully-connected layer\n",
    "x = Dense(1024, activation='relu')(x)\n",
    "# and a logistic layer \n",
    "predictions = Dense(3, activation='softmax')(x)\n",
    "\n",
    "# this is the model we will train\n",
    "model = Model(inputs=base_model.input, outputs=predictions)\n",
    "\n",
    "# first: train only the top layers (which were randomly initialized)\n",
    "# i.e. freeze all convolutional InceptionV3 layers\n",
    "for layer in base_model.layers:\n",
    "    layer.trainable = False"
   ]
  },
  {
   "cell_type": "code",
   "execution_count": 75,
   "metadata": {},
   "outputs": [
    {
     "name": "stdout",
     "output_type": "stream",
     "text": [
      "Train on 2100 samples, validate on 900 samples\n",
      "Epoch 1/30\n",
      "\n",
      "Epoch 00001: val_loss improved from inf to 0.04328, saving model to keras_model/mobilenet_best_1521594642.hdf5\n",
      " - 24s - loss: 1.8407 - val_loss: 0.0433\n",
      "Epoch 2/30\n",
      "\n",
      "Epoch 00002: val_loss did not improve\n",
      " - 10s - loss: 0.1837 - val_loss: 0.0578\n",
      "Epoch 3/30\n",
      "\n",
      "Epoch 00003: val_loss did not improve\n",
      " - 9s - loss: 0.1314 - val_loss: 0.0900\n",
      "Epoch 4/30\n",
      "\n",
      "Epoch 00004: val_loss did not improve\n",
      " - 10s - loss: 0.1106 - val_loss: 0.1551\n",
      "Epoch 5/30\n",
      "\n",
      "Epoch 00005: val_loss did not improve\n",
      " - 9s - loss: 0.1293 - val_loss: 1.1997\n",
      "Epoch 6/30\n",
      "\n",
      "Epoch 00006: val_loss did not improve\n",
      " - 9s - loss: 0.0871 - val_loss: 0.2188\n",
      "Epoch 7/30\n",
      "\n",
      "Epoch 00007: val_loss did not improve\n",
      " - 10s - loss: 0.0863 - val_loss: 0.4463\n",
      "Epoch 8/30\n",
      "\n",
      "Epoch 00008: val_loss did not improve\n",
      " - 9s - loss: 0.0723 - val_loss: 0.1097\n",
      "Epoch 9/30\n",
      "\n",
      "Epoch 00009: val_loss did not improve\n",
      " - 10s - loss: 0.0884 - val_loss: 0.3647\n",
      "Epoch 10/30\n",
      "\n",
      "Epoch 00010: val_loss did not improve\n",
      " - 10s - loss: 0.0944 - val_loss: 0.0977\n",
      "Epoch 11/30\n",
      "\n",
      "Epoch 00011: val_loss did not improve\n",
      " - 9s - loss: 0.0742 - val_loss: 0.1110\n",
      "Epoch 12/30\n",
      "\n",
      "Epoch 00012: val_loss did not improve\n",
      " - 10s - loss: 0.0423 - val_loss: 0.5972\n",
      "Epoch 13/30\n",
      "\n",
      "Epoch 00013: val_loss did not improve\n",
      " - 10s - loss: 0.0266 - val_loss: 0.4181\n",
      "Epoch 14/30\n",
      "\n",
      "Epoch 00014: val_loss did not improve\n",
      " - 10s - loss: 0.0250 - val_loss: 0.1928\n",
      "Epoch 15/30\n",
      "\n",
      "Epoch 00015: val_loss did not improve\n",
      " - 10s - loss: 0.0518 - val_loss: 0.2462\n",
      "Epoch 16/30\n",
      "\n",
      "Epoch 00016: val_loss did not improve\n",
      " - 10s - loss: 0.0192 - val_loss: 0.1603\n",
      "Epoch 17/30\n",
      "\n",
      "Epoch 00017: val_loss did not improve\n",
      " - 9s - loss: 0.0774 - val_loss: 0.1927\n",
      "Epoch 18/30\n",
      "\n",
      "Epoch 00018: val_loss did not improve\n",
      " - 9s - loss: 0.0413 - val_loss: 0.1179\n",
      "Epoch 19/30\n",
      "\n",
      "Epoch 00019: val_loss did not improve\n",
      " - 9s - loss: 0.0404 - val_loss: 0.1817\n",
      "Epoch 20/30\n",
      "\n",
      "Epoch 00020: val_loss did not improve\n",
      " - 10s - loss: 0.0482 - val_loss: 0.0844\n",
      "Epoch 21/30\n",
      "\n",
      "Epoch 00021: val_loss did not improve\n",
      " - 10s - loss: 0.0806 - val_loss: 0.2573\n",
      "Epoch 22/30\n",
      "\n",
      "Epoch 00022: val_loss did not improve\n",
      " - 10s - loss: 0.0372 - val_loss: 0.2821\n",
      "Epoch 23/30\n",
      "\n",
      "Epoch 00023: val_loss did not improve\n",
      " - 10s - loss: 0.0539 - val_loss: 0.1594\n",
      "Epoch 24/30\n",
      "\n",
      "Epoch 00024: val_loss did not improve\n",
      " - 10s - loss: 0.0563 - val_loss: 0.2314\n",
      "Epoch 25/30\n",
      "\n",
      "Epoch 00025: val_loss did not improve\n",
      " - 11s - loss: 0.0277 - val_loss: 0.2509\n",
      "Epoch 26/30\n",
      "\n",
      "Epoch 00026: val_loss did not improve\n",
      " - 10s - loss: 0.0138 - val_loss: 0.1382\n",
      "Epoch 27/30\n",
      "\n",
      "Epoch 00027: val_loss did not improve\n",
      " - 12s - loss: 0.0279 - val_loss: 0.4196\n",
      "Epoch 28/30\n",
      "\n",
      "Epoch 00028: val_loss did not improve\n",
      " - 10s - loss: 0.0223 - val_loss: 0.0867\n",
      "Epoch 29/30\n",
      "\n",
      "Epoch 00029: val_loss did not improve\n",
      " - 10s - loss: 0.0728 - val_loss: 0.1940\n",
      "Epoch 30/30\n",
      "\n",
      "Epoch 00030: val_loss did not improve\n",
      " - 10s - loss: 0.0366 - val_loss: 0.3682\n"
     ]
    },
    {
     "data": {
      "text/plain": [
       "<keras.callbacks.History at 0x17df21df828>"
      ]
     },
     "execution_count": 75,
     "metadata": {},
     "output_type": "execute_result"
    }
   ],
   "source": [
    "# compile the model (should be done *after* setting layers to non-trainable)\n",
    "model.compile(optimizer='rmsprop', loss='categorical_crossentropy')\n",
    "\n",
    "# save the best model\n",
    "train_time = str(int(time.time()))\n",
    "checkpointer = ModelCheckpoint(filepath='keras_model/mobilenet_best_'+train_time+'.hdf5', verbose=1, save_best_only=True)\n",
    "\n",
    "# train the model on the new data for a few epochs\n",
    "model.fit(x=X_train, y=y_train_OH, batch_size=32,\n",
    "          epochs=30, verbose=2, validation_data=(X_val, y_val_OH), shuffle = True, callbacks=[checkpointer])"
   ]
  },
  {
   "cell_type": "code",
   "execution_count": 76,
   "metadata": {
    "collapsed": true
   },
   "outputs": [],
   "source": [
    "model.load_weights('keras_model/mobilenet_best_1521594642.hdf5')"
   ]
  },
  {
   "cell_type": "code",
   "execution_count": 77,
   "metadata": {},
   "outputs": [
    {
     "data": {
      "text/plain": [
       "0.9866666666666667"
      ]
     },
     "execution_count": 77,
     "metadata": {},
     "output_type": "execute_result"
    }
   ],
   "source": [
    "# val accuracy\n",
    "np.mean(np.argmax(model.predict(X_val),axis=1)==np.argmax(y_val_OH, axis=1))"
   ]
  },
  {
   "cell_type": "code",
   "execution_count": 78,
   "metadata": {},
   "outputs": [
    {
     "data": {
      "text/plain": [
       "0.9923809523809524"
      ]
     },
     "execution_count": 78,
     "metadata": {},
     "output_type": "execute_result"
    }
   ],
   "source": [
    "# train accuracy\n",
    "np.mean(np.argmax(model.predict(X_train),axis=1)==np.argmax(y_train_OH, axis=1))"
   ]
  },
  {
   "cell_type": "markdown",
   "metadata": {},
   "source": [
    "## InceptionV3 with data augmentation"
   ]
  },
  {
   "cell_type": "code",
   "execution_count": 13,
   "metadata": {
    "collapsed": true
   },
   "outputs": [],
   "source": [
    "# create the base pre-trained model\n",
    "base_model = InceptionV3(weights='imagenet', include_top=False)\n",
    "\n",
    "# add a global spatial average pooling layer\n",
    "x = base_model.output\n",
    "x = GlobalAveragePooling2D()(x)\n",
    "# let's add a fully-connected layer\n",
    "x = Dense(1024, activation='relu')(x)\n",
    "# and a logistic layer \n",
    "predictions = Dense(3, activation='softmax')(x)\n",
    "\n",
    "# this is the model we will train\n",
    "model = Model(inputs=base_model.input, outputs=predictions)\n",
    "\n",
    "# first: train only the top layers (which were randomly initialized)\n",
    "# i.e. freeze all convolutional InceptionV3 layers\n",
    "for layer in base_model.layers:\n",
    "    layer.trainable = False"
   ]
  },
  {
   "cell_type": "markdown",
   "metadata": {},
   "source": [
    "## data generator"
   ]
  },
  {
   "cell_type": "code",
   "execution_count": 14,
   "metadata": {
    "collapsed": true
   },
   "outputs": [],
   "source": [
    "datagen = ImageDataGenerator(\n",
    "    rotation_range=20,\n",
    "    width_shift_range=0.2,\n",
    "    height_shift_range=0.2,\n",
    "    horizontal_flip=True,\n",
    "    zoom_range = 0.5,\n",
    "    fill_mode = 'nearest',\n",
    ")\n",
    "\n",
    "datagen.fit(X_train)"
   ]
  },
  {
   "cell_type": "code",
   "execution_count": 15,
   "metadata": {},
   "outputs": [
    {
     "name": "stdout",
     "output_type": "stream",
     "text": [
      "Epoch 1/20\n",
      "65/65 [============================>.] - ETA: 0s - loss: 4.3534\n",
      "Epoch 00001: val_loss improved from inf to 0.10769, saving model to keras_model/InceptionV3_aug_1521580658.hdf5\n",
      "66/65 [==============================] - 62s 944ms/step - loss: 4.2931 - val_loss: 0.1077\n",
      "Epoch 2/20\n",
      "65/65 [============================>.] - ETA: 0s - loss: 0.3703\n",
      "Epoch 00002: val_loss improved from 0.10769 to 0.03143, saving model to keras_model/InceptionV3_aug_1521580658.hdf5\n",
      "66/65 [==============================] - 38s 582ms/step - loss: 0.3659 - val_loss: 0.0314\n",
      "Epoch 3/20\n",
      "65/65 [============================>.] - ETA: 0s - loss: 0.2622\n",
      "Epoch 00003: val_loss did not improve\n",
      "66/65 [==============================] - 38s 582ms/step - loss: 0.2606 - val_loss: 0.3852\n",
      "Epoch 4/20\n",
      "65/65 [============================>.] - ETA: 0s - loss: 0.2091\n",
      "Epoch 00004: val_loss did not improve\n",
      "66/65 [==============================] - 37s 562ms/step - loss: 0.2070 - val_loss: 0.0409\n",
      "Epoch 5/20\n",
      "65/65 [============================>.] - ETA: 0s - loss: 0.2381\n",
      "Epoch 00005: val_loss did not improve\n",
      "66/65 [==============================] - 37s 556ms/step - loss: 0.2356 - val_loss: 0.0814\n",
      "Epoch 6/20\n",
      "65/65 [============================>.] - ETA: 0s - loss: 0.1898\n",
      "Epoch 00006: val_loss did not improve\n",
      "66/65 [==============================] - 37s 567ms/step - loss: 0.1883 - val_loss: 0.0327\n",
      "Epoch 7/20\n",
      "65/65 [============================>.] - ETA: 0s - loss: 0.1716\n",
      "Epoch 00007: val_loss did not improve\n",
      "66/65 [==============================] - 37s 560ms/step - loss: 0.1697 - val_loss: 0.0628\n",
      "Epoch 8/20\n",
      "65/65 [============================>.] - ETA: 0s - loss: 0.1285\n",
      "Epoch 00008: val_loss did not improve\n",
      "66/65 [==============================] - 37s 554ms/step - loss: 0.1330 - val_loss: 0.1789\n",
      "Epoch 9/20\n",
      "65/65 [============================>.] - ETA: 0s - loss: 0.1615\n",
      "Epoch 00009: val_loss improved from 0.03143 to 0.02520, saving model to keras_model/InceptionV3_aug_1521580658.hdf5\n",
      "66/65 [==============================] - 39s 589ms/step - loss: 0.1721 - val_loss: 0.0252\n",
      "Epoch 10/20\n",
      "65/65 [============================>.] - ETA: 0s - loss: 0.0922\n",
      "Epoch 00010: val_loss did not improve\n",
      "66/65 [==============================] - 37s 555ms/step - loss: 0.0909 - val_loss: 0.0314\n",
      "Epoch 11/20\n",
      "65/65 [============================>.] - ETA: 0s - loss: 0.1329\n",
      "Epoch 00011: val_loss did not improve\n",
      "66/65 [==============================] - 38s 575ms/step - loss: 0.1330 - val_loss: 0.0338\n",
      "Epoch 12/20\n",
      "65/65 [============================>.] - ETA: 0s - loss: 0.1435\n",
      "Epoch 00012: val_loss did not improve\n",
      "66/65 [==============================] - 38s 576ms/step - loss: 0.1443 - val_loss: 0.1400\n",
      "Epoch 13/20\n",
      "65/65 [============================>.] - ETA: 0s - loss: 0.1117\n",
      "Epoch 00013: val_loss did not improve\n",
      "66/65 [==============================] - 37s 557ms/step - loss: 0.1112 - val_loss: 0.1203\n",
      "Epoch 14/20\n",
      "65/65 [============================>.] - ETA: 0s - loss: 0.1010\n",
      "Epoch 00014: val_loss did not improve\n",
      "66/65 [==============================] - 38s 579ms/step - loss: 0.1000 - val_loss: 0.0953\n",
      "Epoch 15/20\n",
      "65/65 [============================>.] - ETA: 0s - loss: 0.1203\n",
      "Epoch 00015: val_loss improved from 0.02520 to 0.02320, saving model to keras_model/InceptionV3_aug_1521580658.hdf5\n",
      "66/65 [==============================] - 37s 562ms/step - loss: 0.1215 - val_loss: 0.0232\n",
      "Epoch 16/20\n",
      "65/65 [============================>.] - ETA: 0s - loss: 0.0917\n",
      "Epoch 00016: val_loss did not improve\n",
      "66/65 [==============================] - 37s 557ms/step - loss: 0.0914 - val_loss: 0.1552\n",
      "Epoch 17/20\n",
      "65/65 [============================>.] - ETA: 0s - loss: 0.0940\n",
      "Epoch 00017: val_loss did not improve\n",
      "66/65 [==============================] - 37s 559ms/step - loss: 0.0945 - val_loss: 0.1881\n",
      "Epoch 18/20\n",
      "65/65 [============================>.] - ETA: 0s - loss: 0.1023\n",
      "Epoch 00018: val_loss did not improve\n",
      "66/65 [==============================] - 37s 556ms/step - loss: 0.1016 - val_loss: 0.0285\n",
      "Epoch 19/20\n",
      "65/65 [============================>.] - ETA: 0s - loss: 0.1016\n",
      "Epoch 00019: val_loss did not improve\n",
      "66/65 [==============================] - 37s 556ms/step - loss: 0.1040 - val_loss: 0.0765\n",
      "Epoch 20/20\n",
      "65/65 [============================>.] - ETA: 0s - loss: 0.0871\n",
      "Epoch 00020: val_loss did not improve\n",
      "66/65 [==============================] - 37s 562ms/step - loss: 0.0866 - val_loss: 0.0312\n"
     ]
    },
    {
     "data": {
      "text/plain": [
       "<keras.callbacks.History at 0x17ddb2118d0>"
      ]
     },
     "execution_count": 15,
     "metadata": {},
     "output_type": "execute_result"
    }
   ],
   "source": [
    "# compile the model (should be done *after* setting layers to non-trainable)\n",
    "model.compile(optimizer='rmsprop', loss='categorical_crossentropy')\n",
    "\n",
    "# save the best model\n",
    "train_time = str(int(time.time()))\n",
    "checkpointer = ModelCheckpoint(filepath='keras_model/InceptionV3_aug_'+train_time+'.hdf5', verbose=1, save_best_only=True)\n",
    "\n",
    "# train the model on the new data for a few epochs\n",
    "model.fit_generator(datagen.flow(X_train, y_train_OH, batch_size=32), validation_data=(X_val, y_val_OH),\n",
    "                    steps_per_epoch=len(X_train) / 32, epochs=20,shuffle = True, callbacks=[checkpointer])"
   ]
  },
  {
   "cell_type": "code",
   "execution_count": 22,
   "metadata": {
    "collapsed": true
   },
   "outputs": [],
   "source": [
    "model.load_weights('keras_model/InceptionV3_aug_1521580658.hdf5')"
   ]
  },
  {
   "cell_type": "code",
   "execution_count": 23,
   "metadata": {},
   "outputs": [
    {
     "data": {
      "text/plain": [
       "0.9911111111111112"
      ]
     },
     "execution_count": 23,
     "metadata": {},
     "output_type": "execute_result"
    }
   ],
   "source": [
    "# val accuracy\n",
    "np.mean(np.argmax(model.predict(X_val),axis=1)==np.argmax(y_val_OH, axis=1))"
   ]
  },
  {
   "cell_type": "code",
   "execution_count": 24,
   "metadata": {
    "scrolled": true
   },
   "outputs": [
    {
     "data": {
      "text/plain": [
       "0.9928571428571429"
      ]
     },
     "execution_count": 24,
     "metadata": {},
     "output_type": "execute_result"
    }
   ],
   "source": [
    "# train accuracy\n",
    "np.mean(np.argmax(model.predict(X_train),axis=1)==np.argmax(y_train_OH, axis=1))"
   ]
  },
  {
   "cell_type": "markdown",
   "metadata": {},
   "source": [
    "## Xception with data augmentation"
   ]
  },
  {
   "cell_type": "code",
   "execution_count": 29,
   "metadata": {},
   "outputs": [],
   "source": [
    "# create the base pre-trained model\n",
    "base_model = Xception(weights='imagenet', include_top=False)\n",
    "\n",
    "# add a global spatial average pooling layer\n",
    "x = base_model.output\n",
    "x = GlobalAveragePooling2D()(x)\n",
    "# let's add a fully-connected layer\n",
    "x = Dense(1024, activation='relu')(x)\n",
    "# and a logistic layer\n",
    "predictions = Dense(3, activation='softmax')(x)\n",
    "\n",
    "# this is the model we will train\n",
    "model = Model(inputs=base_model.input, outputs=predictions)\n",
    "\n",
    "# first: train only the top layers (which were randomly initialized)\n",
    "# i.e. freeze all convolutional InceptionV3 layers\n",
    "for layer in base_model.layers:\n",
    "    layer.trainable = False"
   ]
  },
  {
   "cell_type": "code",
   "execution_count": 30,
   "metadata": {
    "collapsed": true
   },
   "outputs": [],
   "source": [
    "datagen = ImageDataGenerator(\n",
    "    rotation_range=20,\n",
    "    width_shift_range=0.2,\n",
    "    height_shift_range=0.2,\n",
    "    horizontal_flip=True,\n",
    "    zoom_range = 0.5,\n",
    "    fill_mode = 'nearest',\n",
    ")\n",
    "\n",
    "datagen.fit(X_train)"
   ]
  },
  {
   "cell_type": "code",
   "execution_count": 31,
   "metadata": {},
   "outputs": [
    {
     "name": "stdout",
     "output_type": "stream",
     "text": [
      "Epoch 1/20\n",
      "65/65 [============================>.] - ETA: 0s - loss: 0.5074\n",
      "Epoch 00001: val_loss improved from inf to 0.08192, saving model to keras_model/Xception_aug_1521582759.hdf5\n",
      "66/65 [==============================] - 100s 2s/step - loss: 0.4998 - val_loss: 0.0819\n",
      "Epoch 2/20\n",
      "65/65 [============================>.] - ETA: 0s - loss: 0.2243\n",
      "Epoch 00002: val_loss improved from 0.08192 to 0.02438, saving model to keras_model/Xception_aug_1521582759.hdf5\n",
      "66/65 [==============================] - 77s 1s/step - loss: 0.2213 - val_loss: 0.0244\n",
      "Epoch 3/20\n",
      "65/65 [============================>.] - ETA: 0s - loss: 0.1439\n",
      "Epoch 00003: val_loss did not improve\n",
      "66/65 [==============================] - 75s 1s/step - loss: 0.1421 - val_loss: 0.1145\n",
      "Epoch 4/20\n",
      "65/65 [============================>.] - ETA: 0s - loss: 0.1122\n",
      "Epoch 00004: val_loss did not improve\n",
      "66/65 [==============================] - 86s 1s/step - loss: 0.1108 - val_loss: 0.0372\n",
      "Epoch 5/20\n",
      "65/65 [============================>.] - ETA: 0s - loss: 0.1383\n",
      "Epoch 00005: val_loss improved from 0.02438 to 0.02239, saving model to keras_model/Xception_aug_1521582759.hdf5\n",
      "66/65 [==============================] - 97s 1s/step - loss: 0.1438 - val_loss: 0.0224\n",
      "Epoch 6/20\n",
      "65/65 [============================>.] - ETA: 0s - loss: 0.1178\n",
      "Epoch 00006: val_loss improved from 0.02239 to 0.01780, saving model to keras_model/Xception_aug_1521582759.hdf5\n",
      "66/65 [==============================] - 89s 1s/step - loss: 0.1200 - val_loss: 0.0178\n",
      "Epoch 7/20\n",
      "65/65 [============================>.] - ETA: 0s - loss: 0.1258\n",
      "Epoch 00007: val_loss did not improve\n",
      "66/65 [==============================] - 88s 1s/step - loss: 0.1239 - val_loss: 0.0235\n",
      "Epoch 8/20\n",
      "65/65 [============================>.] - ETA: 0s - loss: 0.1044\n",
      "Epoch 00008: val_loss improved from 0.01780 to 0.01771, saving model to keras_model/Xception_aug_1521582759.hdf5\n",
      "66/65 [==============================] - 93s 1s/step - loss: 0.1028 - val_loss: 0.0177\n",
      "Epoch 9/20\n",
      "65/65 [============================>.] - ETA: 0s - loss: 0.1045\n",
      "Epoch 00009: val_loss did not improve\n",
      "66/65 [==============================] - 90s 1s/step - loss: 0.1036 - val_loss: 0.0335\n",
      "Epoch 10/20\n",
      "65/65 [============================>.] - ETA: 0s - loss: 0.0952\n",
      "Epoch 00010: val_loss did not improve\n",
      "66/65 [==============================] - 91s 1s/step - loss: 0.0970 - val_loss: 0.0581\n",
      "Epoch 11/20\n",
      "65/65 [============================>.] - ETA: 0s - loss: 0.0570\n",
      "Epoch 00011: val_loss did not improve\n",
      "66/65 [==============================] - 92s 1s/step - loss: 0.0561 - val_loss: 0.0687\n",
      "Epoch 12/20\n",
      "65/65 [============================>.] - ETA: 0s - loss: 0.0854\n",
      "Epoch 00012: val_loss did not improve\n",
      "66/65 [==============================] - 93s 1s/step - loss: 0.0843 - val_loss: 0.0845\n",
      "Epoch 13/20\n",
      "65/65 [============================>.] - ETA: 0s - loss: 0.0876\n",
      "Epoch 00013: val_loss did not improve\n",
      "66/65 [==============================] - 95s 1s/step - loss: 0.0890 - val_loss: 0.0452\n",
      "Epoch 14/20\n",
      "65/65 [============================>.] - ETA: 0s - loss: 0.1025\n",
      "Epoch 00014: val_loss did not improve\n",
      "66/65 [==============================] - 95s 1s/step - loss: 0.1036 - val_loss: 0.0263\n",
      "Epoch 15/20\n",
      "65/65 [============================>.] - ETA: 0s - loss: 0.0654\n",
      "Epoch 00015: val_loss did not improve\n",
      "66/65 [==============================] - 98s 1s/step - loss: 0.0681 - val_loss: 0.0675\n",
      "Epoch 16/20\n",
      "65/65 [============================>.] - ETA: 0s - loss: 0.0865\n",
      "Epoch 00016: val_loss did not improve\n",
      "66/65 [==============================] - 102s 2s/step - loss: 0.0861 - val_loss: 0.1210\n",
      "Epoch 17/20\n",
      "65/65 [============================>.] - ETA: 0s - loss: 0.1101\n",
      "Epoch 00017: val_loss did not improve\n",
      "66/65 [==============================] - 103s 2s/step - loss: 0.1086 - val_loss: 0.0619\n",
      "Epoch 18/20\n",
      "65/65 [============================>.] - ETA: 0s - loss: 0.0644\n",
      "Epoch 00018: val_loss did not improve\n",
      "66/65 [==============================] - 99s 2s/step - loss: 0.0635 - val_loss: 0.0234\n",
      "Epoch 19/20\n",
      "65/65 [============================>.] - ETA: 0s - loss: 0.0656\n",
      "Epoch 00019: val_loss improved from 0.01771 to 0.01400, saving model to keras_model/Xception_aug_1521582759.hdf5\n",
      "66/65 [==============================] - 98s 1s/step - loss: 0.0697 - val_loss: 0.0140\n",
      "Epoch 20/20\n",
      "65/65 [============================>.] - ETA: 0s - loss: 0.0840\n",
      "Epoch 00020: val_loss did not improve\n",
      "66/65 [==============================] - 98s 1s/step - loss: 0.0850 - val_loss: 0.0811\n"
     ]
    },
    {
     "data": {
      "text/plain": [
       "<keras.callbacks.History at 0x17df276f4a8>"
      ]
     },
     "execution_count": 31,
     "metadata": {},
     "output_type": "execute_result"
    }
   ],
   "source": [
    "# compile the model (should be done *after* setting layers to non-trainable)\n",
    "model.compile(optimizer='rmsprop', loss='categorical_crossentropy')\n",
    "\n",
    "# save the best model\n",
    "train_time = str(int(time.time()))\n",
    "checkpointer = ModelCheckpoint(filepath='keras_model/Xception_aug_'+train_time+'.hdf5', verbose=1, save_best_only=True)\n",
    "\n",
    "# train the model on the new data for a few epochs\n",
    "model.fit_generator(datagen.flow(X_train, y_train_OH, batch_size=32), validation_data=(X_val, y_val_OH),\n",
    "                    steps_per_epoch=len(X_train) / 32, epochs=20,shuffle = True, callbacks=[checkpointer])"
   ]
  },
  {
   "cell_type": "code",
   "execution_count": 32,
   "metadata": {
    "collapsed": true
   },
   "outputs": [],
   "source": [
    "model.load_weights('keras_model/Xception_aug_1521582759.hdf5')"
   ]
  },
  {
   "cell_type": "code",
   "execution_count": 33,
   "metadata": {},
   "outputs": [
    {
     "data": {
      "text/plain": [
       "0.9977777777777778"
      ]
     },
     "execution_count": 33,
     "metadata": {},
     "output_type": "execute_result"
    }
   ],
   "source": [
    "# val accuracy\n",
    "np.mean(np.argmax(model.predict(X_val),axis=1)==np.argmax(y_val_OH, axis=1))"
   ]
  },
  {
   "cell_type": "code",
   "execution_count": 24,
   "metadata": {},
   "outputs": [
    {
     "data": {
      "text/plain": [
       "0.9928571428571429"
      ]
     },
     "execution_count": 24,
     "metadata": {},
     "output_type": "execute_result"
    }
   ],
   "source": [
    "# train accuracy\n",
    "np.mean(np.argmax(model.predict(X_train),axis=1)==np.argmax(y_train_OH, axis=1))"
   ]
  },
  {
   "cell_type": "markdown",
   "metadata": {},
   "source": [
    "### Prediction time on 3000 images (with GPU)"
   ]
  },
  {
   "cell_type": "code",
   "execution_count": 58,
   "metadata": {},
   "outputs": [
    {
     "data": {
      "text/plain": [
       "50.65471911430359"
      ]
     },
     "execution_count": 58,
     "metadata": {},
     "output_type": "execute_result"
    }
   ],
   "source": [
    "start = time.time()\n",
    "model.predict(X_val)\n",
    "model.predict(X_train)\n",
    "time.time() - start"
   ]
  },
  {
   "cell_type": "markdown",
   "metadata": {},
   "source": [
    "## Mobile Net with data augmentation"
   ]
  },
  {
   "cell_type": "code",
   "execution_count": 82,
   "metadata": {
    "collapsed": true
   },
   "outputs": [],
   "source": [
    "# create the base pre-trained model\n",
    "base_model = MobileNet(input_shape=(224, 224, 3),weights='imagenet', include_top=False)\n",
    "\n",
    "# add a global spatial average pooling layer\n",
    "x = base_model.output\n",
    "x = GlobalAveragePooling2D()(x)\n",
    "# let's add a fully-connected layer\n",
    "x = Dense(1024, activation='relu')(x)\n",
    "# and a logistic layer \n",
    "predictions = Dense(3, activation='softmax')(x)\n",
    "\n",
    "# this is the model we will train\n",
    "model = Model(inputs=base_model.input, outputs=predictions)\n",
    "\n",
    "# first: train only the top layers (which were randomly initialized)\n",
    "# i.e. freeze all convolutional InceptionV3 layers\n",
    "for layer in base_model.layers:\n",
    "    layer.trainable = False"
   ]
  },
  {
   "cell_type": "code",
   "execution_count": 83,
   "metadata": {
    "collapsed": true
   },
   "outputs": [],
   "source": [
    "datagen = ImageDataGenerator(\n",
    "    rotation_range=20,\n",
    "    width_shift_range=0.2,\n",
    "    height_shift_range=0.2,\n",
    "    horizontal_flip=True,\n",
    "    zoom_range = 0.5,\n",
    "    fill_mode = 'nearest',\n",
    ")\n",
    "\n",
    "datagen.fit(X_train)"
   ]
  },
  {
   "cell_type": "code",
   "execution_count": 84,
   "metadata": {},
   "outputs": [
    {
     "name": "stdout",
     "output_type": "stream",
     "text": [
      "Epoch 1/30\n",
      "65/65 [============================>.] - ETA: 0s - loss: 5.8901\n",
      "Epoch 00001: val_loss improved from inf to 0.24856, saving model to keras_model/mobilenet_aug_1521595248.hdf5\n",
      "66/65 [==============================] - 36s 543ms/step - loss: 5.8037 - val_loss: 0.2486\n",
      "Epoch 2/30\n",
      "65/65 [============================>.] - ETA: 0s - loss: 0.3031\n",
      "Epoch 00002: val_loss improved from 0.24856 to 0.06660, saving model to keras_model/mobilenet_aug_1521595248.hdf5\n",
      "66/65 [==============================] - 18s 277ms/step - loss: 0.3028 - val_loss: 0.0666\n",
      "Epoch 3/30\n",
      "65/65 [============================>.] - ETA: 0s - loss: 0.1850\n",
      "Epoch 00003: val_loss improved from 0.06660 to 0.02315, saving model to keras_model/mobilenet_aug_1521595248.hdf5\n",
      "66/65 [==============================] - 18s 273ms/step - loss: 0.1873 - val_loss: 0.0232\n",
      "Epoch 4/30\n",
      "65/65 [============================>.] - ETA: 0s - loss: 0.1466\n",
      "Epoch 00004: val_loss did not improve\n",
      "66/65 [==============================] - 18s 267ms/step - loss: 0.1464 - val_loss: 0.0688\n",
      "Epoch 5/30\n",
      "65/65 [============================>.] - ETA: 0s - loss: 0.1330\n",
      "Epoch 00005: val_loss did not improve\n",
      "66/65 [==============================] - 18s 267ms/step - loss: 0.1329 - val_loss: 0.4455\n",
      "Epoch 6/30\n",
      "65/65 [============================>.] - ETA: 0s - loss: 0.1682\n",
      "Epoch 00006: val_loss did not improve\n",
      "66/65 [==============================] - 18s 270ms/step - loss: 0.1962 - val_loss: 0.1123\n",
      "Epoch 7/30\n",
      "65/65 [============================>.] - ETA: 0s - loss: 0.1297\n",
      "Epoch 00007: val_loss did not improve\n",
      "66/65 [==============================] - 18s 266ms/step - loss: 0.1281 - val_loss: 0.0852\n",
      "Epoch 8/30\n",
      "65/65 [============================>.] - ETA: 0s - loss: 0.1272\n",
      "Epoch 00008: val_loss did not improve\n",
      "66/65 [==============================] - 18s 266ms/step - loss: 0.1256 - val_loss: 0.0422\n",
      "Epoch 9/30\n",
      "65/65 [============================>.] - ETA: 0s - loss: 0.1402\n",
      "Epoch 00009: val_loss did not improve\n",
      "66/65 [==============================] - 18s 270ms/step - loss: 0.1382 - val_loss: 0.1105\n",
      "Epoch 10/30\n",
      "65/65 [============================>.] - ETA: 0s - loss: 0.1341\n",
      "Epoch 00010: val_loss did not improve\n",
      "66/65 [==============================] - 18s 270ms/step - loss: 0.1321 - val_loss: 0.0786\n",
      "Epoch 11/30\n",
      "65/65 [============================>.] - ETA: 0s - loss: 0.1007\n",
      "Epoch 00011: val_loss did not improve\n",
      "66/65 [==============================] - 18s 270ms/step - loss: 0.0992 - val_loss: 0.0295\n",
      "Epoch 12/30\n",
      "65/65 [============================>.] - ETA: 0s - loss: 0.1129\n",
      "Epoch 00012: val_loss did not improve\n",
      "66/65 [==============================] - 18s 271ms/step - loss: 0.1114 - val_loss: 0.0397\n",
      "Epoch 13/30\n",
      "65/65 [============================>.] - ETA: 0s - loss: 0.0913\n",
      "Epoch 00013: val_loss did not improve\n",
      "66/65 [==============================] - 18s 272ms/step - loss: 0.0913 - val_loss: 0.0750\n",
      "Epoch 14/30\n",
      "65/65 [============================>.] - ETA: 0s - loss: 0.1270\n",
      "Epoch 00014: val_loss did not improve\n",
      "66/65 [==============================] - 18s 267ms/step - loss: 0.1252 - val_loss: 0.0494\n",
      "Epoch 15/30\n",
      "65/65 [============================>.] - ETA: 0s - loss: 0.0863\n",
      "Epoch 00015: val_loss did not improve\n",
      "66/65 [==============================] - 18s 267ms/step - loss: 0.0849 - val_loss: 0.0436\n",
      "Epoch 16/30\n",
      "65/65 [============================>.] - ETA: 0s - loss: 0.0798\n",
      "Epoch 00016: val_loss did not improve\n",
      "66/65 [==============================] - 18s 269ms/step - loss: 0.0823 - val_loss: 0.0870\n",
      "Epoch 17/30\n",
      "65/65 [============================>.] - ETA: 0s - loss: 0.0721\n",
      "Epoch 00017: val_loss did not improve\n",
      "66/65 [==============================] - 18s 269ms/step - loss: 0.0715 - val_loss: 0.0542\n",
      "Epoch 18/30\n",
      "65/65 [============================>.] - ETA: 0s - loss: 0.0972\n",
      "Epoch 00018: val_loss did not improve\n",
      "66/65 [==============================] - 18s 268ms/step - loss: 0.0957 - val_loss: 0.0438\n",
      "Epoch 19/30\n",
      "65/65 [============================>.] - ETA: 0s - loss: 0.0935\n",
      "Epoch 00019: val_loss did not improve\n",
      "66/65 [==============================] - 18s 270ms/step - loss: 0.0922 - val_loss: 0.0859\n",
      "Epoch 20/30\n",
      "65/65 [============================>.] - ETA: 0s - loss: 0.1036\n",
      "Epoch 00020: val_loss did not improve\n",
      "66/65 [==============================] - 18s 271ms/step - loss: 0.1021 - val_loss: 0.0469\n",
      "Epoch 21/30\n",
      "65/65 [============================>.] - ETA: 0s - loss: 0.0854\n",
      "Epoch 00021: val_loss did not improve\n",
      "66/65 [==============================] - 18s 269ms/step - loss: 0.0841 - val_loss: 0.0506\n",
      "Epoch 22/30\n",
      "65/65 [============================>.] - ETA: 0s - loss: 0.0748\n",
      "Epoch 00022: val_loss did not improve\n",
      "66/65 [==============================] - 18s 268ms/step - loss: 0.0737 - val_loss: 0.0623\n",
      "Epoch 23/30\n",
      "65/65 [============================>.] - ETA: 0s - loss: 0.0884\n",
      "Epoch 00023: val_loss did not improve\n",
      "66/65 [==============================] - 18s 267ms/step - loss: 0.0879 - val_loss: 0.0509\n",
      "Epoch 24/30\n",
      "65/65 [============================>.] - ETA: 0s - loss: 0.0635\n",
      "Epoch 00024: val_loss did not improve\n",
      "66/65 [==============================] - 18s 269ms/step - loss: 0.0626 - val_loss: 0.0635\n",
      "Epoch 25/30\n",
      "65/65 [============================>.] - ETA: 0s - loss: 0.0587\n",
      "Epoch 00025: val_loss did not improve\n",
      "66/65 [==============================] - 18s 268ms/step - loss: 0.0578 - val_loss: 0.1199\n",
      "Epoch 26/30\n",
      "65/65 [============================>.] - ETA: 0s - loss: 0.0710\n",
      "Epoch 00026: val_loss did not improve\n",
      "66/65 [==============================] - 18s 268ms/step - loss: 0.0699 - val_loss: 0.0835\n",
      "Epoch 27/30\n",
      "65/65 [============================>.] - ETA: 0s - loss: 0.0845\n",
      "Epoch 00027: val_loss did not improve\n",
      "66/65 [==============================] - 18s 270ms/step - loss: 0.0834 - val_loss: 0.0636\n",
      "Epoch 28/30\n",
      "65/65 [============================>.] - ETA: 0s - loss: 0.0716\n",
      "Epoch 00028: val_loss did not improve\n",
      "66/65 [==============================] - 18s 273ms/step - loss: 0.0753 - val_loss: 0.1710\n",
      "Epoch 29/30\n",
      "65/65 [============================>.] - ETA: 0s - loss: 0.0885\n",
      "Epoch 00029: val_loss did not improve\n",
      "66/65 [==============================] - 18s 278ms/step - loss: 0.0872 - val_loss: 0.0660\n",
      "Epoch 30/30\n",
      "65/65 [============================>.] - ETA: 0s - loss: 0.0759\n",
      "Epoch 00030: val_loss did not improve\n",
      "66/65 [==============================] - 18s 271ms/step - loss: 0.0775 - val_loss: 0.0748\n"
     ]
    },
    {
     "data": {
      "text/plain": [
       "<keras.callbacks.History at 0x17e9f31f390>"
      ]
     },
     "execution_count": 84,
     "metadata": {},
     "output_type": "execute_result"
    }
   ],
   "source": [
    "# compile the model (should be done *after* setting layers to non-trainable)\n",
    "model.compile(optimizer='rmsprop', loss='categorical_crossentropy')\n",
    "\n",
    "# save the best model\n",
    "train_time = str(int(time.time()))\n",
    "checkpointer = ModelCheckpoint(filepath='keras_model/mobilenet_aug_'+train_time+'.hdf5', verbose=1, save_best_only=True)\n",
    "\n",
    "# train the model on the new data for a few epochs\n",
    "model.fit_generator(datagen.flow(X_train, y_train_OH, batch_size=32), validation_data=(X_val, y_val_OH),\n",
    "                    steps_per_epoch=len(X_train) / 32, epochs=30,shuffle = True, callbacks=[checkpointer])"
   ]
  },
  {
   "cell_type": "code",
   "execution_count": 85,
   "metadata": {
    "collapsed": true
   },
   "outputs": [],
   "source": [
    "model.load_weights('keras_model/mobilenet_aug_1521595248.hdf5')"
   ]
  },
  {
   "cell_type": "code",
   "execution_count": 86,
   "metadata": {},
   "outputs": [
    {
     "data": {
      "text/plain": [
       "0.9933333333333333"
      ]
     },
     "execution_count": 86,
     "metadata": {},
     "output_type": "execute_result"
    }
   ],
   "source": [
    "# val accuracy\n",
    "np.mean(np.argmax(model.predict(X_val),axis=1)==np.argmax(y_val_OH, axis=1))"
   ]
  },
  {
   "cell_type": "code",
   "execution_count": 87,
   "metadata": {},
   "outputs": [
    {
     "data": {
      "text/plain": [
       "0.9976190476190476"
      ]
     },
     "execution_count": 87,
     "metadata": {},
     "output_type": "execute_result"
    }
   ],
   "source": [
    "# train accuracy\n",
    "np.mean(np.argmax(model.predict(X_train),axis=1)==np.argmax(y_train_OH, axis=1))"
   ]
  },
  {
   "cell_type": "code",
   "execution_count": 88,
   "metadata": {},
   "outputs": [
    {
     "data": {
      "text/plain": [
       "10.559442520141602"
      ]
     },
     "execution_count": 88,
     "metadata": {},
     "output_type": "execute_result"
    }
   ],
   "source": [
    "start = time.time()\n",
    "model.predict(X_val)\n",
    "model.predict(X_train)\n",
    "time.time() - start"
   ]
  }
 ],
 "metadata": {
  "kernelspec": {
   "display_name": "Python 3",
   "language": "python",
   "name": "python3"
  },
  "language_info": {
   "codemirror_mode": {
    "name": "ipython",
    "version": 3
   },
   "file_extension": ".py",
   "mimetype": "text/x-python",
   "name": "python",
   "nbconvert_exporter": "python",
   "pygments_lexer": "ipython3",
   "version": "3.6.3"
  }
 },
 "nbformat": 4,
 "nbformat_minor": 2
}
